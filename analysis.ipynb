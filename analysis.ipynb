{
 "cells": [
  {
   "cell_type": "markdown",
   "metadata": {},
   "source": [
    "### Preprocesado de los datos"
   ]
  },
  {
   "cell_type": "code",
   "execution_count": 1,
   "metadata": {},
   "outputs": [],
   "source": [
    "from pathlib import Path\n",
    "import pandas as pd\n",
    "import numpy as np"
   ]
  },
  {
   "cell_type": "markdown",
   "metadata": {},
   "source": [
    "#### Variables exógenas"
   ]
  },
  {
   "cell_type": "markdown",
   "metadata": {},
   "source": [
    "**Temperatura:** Se ha descargado los valores de temperaturas máximas y mínimas de la AEMET parseando el código de la web \"datosclima.es\""
   ]
  },
  {
   "cell_type": "code",
   "execution_count": 12,
   "metadata": {},
   "outputs": [],
   "source": [
    "def load_temps(fname: str = \"exo/temps.html\") -> pd.DataFrame:\n",
    "    \"\"\" Carga las temperaturas diarias del HTML\"\"\"\n",
    "    tabs = pd.read_html(Path(fname))\n",
    "    tabs = [tabs[i] for i in [3,4,5,7,8,9,11,12,13]]  \n",
    "    for t in tabs:\n",
    "        t.columns = [\"date\", \"tmax\", \"tmin\"]\n",
    "        t.drop(index=[0], inplace=True)\n",
    "    temps = pd.concat(tabs, ignore_index=True)\n",
    "    temps[\"date\"] = pd.to_datetime(temps[\"date\"], format=\"%d-%m-%Y\")\n",
    "    temps[[\"tmax\", \"tmin\"]] = temps[[\"tmax\", \"tmin\"]].astype(float)\n",
    "    temps.interpolate(method=\"pad\", inplace=True)\n",
    "    return temps"
   ]
  },
  {
   "cell_type": "markdown",
   "metadata": {},
   "source": [
    "**Festivos:** Se ha descargado los festivos locales y nacionales del dataset [\"Fiestas locales y autonómicas del Principado de Asturias \"](https://datos.gob.es/es/catalogo/a03002951-fiestas-locales-autonomicas-principado-asturias\") del portal de datos público \"datos.gob.es\"."
   ]
  },
  {
   "cell_type": "code",
   "execution_count": 13,
   "metadata": {},
   "outputs": [],
   "source": [
    "def load_fest() -> pd.DataFrame:\n",
    "    \"\"\" Carga los festivos de los ficheros csv\"\"\"\n",
    "    fest = []\n",
    "    for y in [21, 22, 23]:\n",
    "        dfy = pd.read_csv(f\"exo/festivos_{y}.csv\")\n",
    "        dfy.columns = [\"tipo\", \"lugar\", \"date\", \"fiesta\"]\n",
    "        fest.append(dfy)\n",
    "    fest = pd.concat(fest, ignore_index=True)\n",
    "    fest = fest[(fest[\"tipo\"] == \"AUTONOMICO\") | (fest[\"lugar\"] == \"GIJÓN\") | (fest[\"lugar\"] == \"VILLAVICIOSA\")]\n",
    "    fest[\"date\"] = pd.to_datetime(fest[\"date\"], format=\"%m/%d/%Y\")\n",
    "    fest.sort_values(\"date\", inplace=True)\n",
    "    fest.reset_index(inplace=True, drop=True)\n",
    "    return fest\n"
   ]
  },
  {
   "cell_type": "markdown",
   "metadata": {},
   "source": [
    "#### Datos de entrenamiento / predicción"
   ]
  },
  {
   "cell_type": "code",
   "execution_count": 14,
   "metadata": {},
   "outputs": [],
   "source": [
    "municipios = {\n",
    "    \"gijon\": \"GIJÓN\",\n",
    "    \"peon\": \"VILLAVICIOSA\"\n",
    "}\n",
    "\n",
    "def load_train_data(place: str = \"gijon\") -> pd.DataFrame:\n",
    "\n",
    "    # load csv files\n",
    "    df = pd.read_csv(f\"datasets/2021_2023_{place}_train.csv\")\n",
    "\n",
    "    df.columns = [\"ts\", \"cons\"]\n",
    "    df[\"ts\"] = pd.to_datetime(df[\"ts\"])\n",
    "    df[\"date\"] = df[\"ts\"].dt.date\n",
    "    df[\"place\"] = place\n",
    "\n",
    "    # add temperatures\n",
    "    temp = load_temps()\n",
    "    temp[\"date\"] = temp[\"date\"].dt.date\n",
    "    df = pd.merge(df, temp, left_on=\"date\", right_on=\"date\", how=\"left\")\n",
    "    df.sort_values([\"place\", \"date\"], inplace=True)\n",
    "    df[[\"tmax\",\"tmin\"]] = df[[\"tmax\",\"tmin\"]].interpolate(method=\"linear\")\n",
    "\n",
    "    # load and assign festives\n",
    "    fest = load_fest()\n",
    "    df[\"festivo\"] = df[\"date\"].isin(fest[(fest[\"tipo\"] == \"AUTONOMICO\") | (fest[\"lugar\"] == municipios[place])][\"date\"].dt.date)\n",
    "\n",
    "    # join both and reorder cols\n",
    "    df = df[[\"cons\", \"tmax\",\"tmin\", \"ts\", \"place\",\"date\",\"festivo\"]]\n",
    "\n",
    "    # add variables for workdays\n",
    "    df[\"finde\"] = df[\"ts\"].dt.weekday.isin([5,6])\n",
    "    df[\"laboral\"] = ~(df[\"finde\"] | df[\"festivo\"])\n",
    "\n",
    "    df[\"hour\"] = df[\"ts\"].dt.hour\n",
    "    df[\"horario_laboral\"] = df[\"hour\"].isin([6,7,8,9,10,11,12,13,14,15,16,17,18]) # de 7 a 19\n",
    "\n",
    "    # create dummy vars for hour weekday and month \n",
    "    df[\"dow\"] = df[\"ts\"].dt.day_of_week   \n",
    "    df[\"doy\"] = df[\"ts\"].dt.day_of_year\n",
    "    \n",
    "    # grab min, max, mean values\n",
    "    df[\"max_daily_cons\"] = df[\"doy\"].replace(df.groupby([\"doy\"])[\"cons\"].max())\n",
    "    df[\"avg_daily_cons\"] = df[\"doy\"].replace(df.groupby([\"doy\"])[\"cons\"].mean())\n",
    "    df[\"min_daily_cons\"] = df[\"doy\"].replace(df.groupby([\"doy\"])[\"cons\"].min())\n",
    "\n",
    "    # set index frequency\n",
    "    df.set_index(df[\"ts\"], inplace=True, drop=True)\n",
    "    df = df.asfreq(\"H\",method=\"pad\")\n",
    "    df.index.name = None\n",
    "    \n",
    "    # drop unused columns and assign correct dtypes\n",
    "    df.drop(columns=[\"ts\", \"date\", \"place\", \"doy\"], inplace=True)\n",
    "    # for c in [\"laboral\", \"finde\", \"festivo\", \"horario_laboral\"]:\n",
    "    #     df[c] = df[c].astype(int)\n",
    "\n",
    "    # fix 0 values (shorcuts?)\n",
    "    df.loc[df[\"cons\"] == 0, \"cons\"] = np.NAN\n",
    "\n",
    "    # return the data\n",
    "    return df\n",
    "\n",
    "\n",
    "def load_pred_data(start: np.datetime64, nhours: int, place: str = \"gijon\") -> pd.DataFrame:\n",
    "\n",
    "    \"\"\" Prepares the input data for the predictions. \"\"\"\n",
    "\n",
    "    df = pd.DataFrame(index=pd.date_range(start=start, periods=nhours, freq=\"H\"))\n",
    "    df.index: pd.DatetimeIndex\n",
    "    df[\"date\"] = df.index.date\n",
    "    df[\"place\"] = place\n",
    "\n",
    "    # add temperatures\n",
    "    temp = load_temps()\n",
    "    temp[\"date\"] = temp[\"date\"].dt.date\n",
    "    df = pd.merge(df, temp, left_on=\"date\", right_on=\"date\", how=\"left\")\n",
    "    df.set_index(pd.date_range(start=start, periods=nhours, freq=\"H\"), inplace=True, drop=True)\n",
    "    \n",
    "    df.sort_values([\"place\", \"date\"], inplace=True)\n",
    "\n",
    "    df[[\"tmax\",\"tmin\"]] = df[[\"tmax\",\"tmin\"]].interpolate()\n",
    "\n",
    "    # load and assign festives\n",
    "    fest = load_fest()\n",
    "    df[\"festivo\"] = df[\"date\"].isin(fest[(fest[\"tipo\"] == \"AUTONOMICO\") | (fest[\"lugar\"] == municipios[place])][\"date\"].dt.date)\n",
    "\n",
    "    # join both and reorder cols\n",
    "    df = df[[\"tmax\",\"tmin\", \"place\",\"date\",\"festivo\"]]\n",
    "\n",
    "    # add variables for workdays\n",
    "    df[\"finde\"] = df.index.weekday.isin([5,6])\n",
    "    df[\"laboral\"] = ~(df[\"finde\"] | df[\"festivo\"])\n",
    "\n",
    "    # add variables for work hours\n",
    "    df[\"hour\"] = df.index.hour\n",
    "    df[\"horario_laboral\"] = df[\"hour\"].isin([6,7,8,9,10,11,12,13,14,15,16,17,18]) # de 7 a 19\n",
    "\n",
    "    # create dummy vars for dayofweek and dayofyear\n",
    "    df[\"dow\"] = df.index.day_of_week\n",
    "    #df[\"month\"] = df[\"ts\"].dt.month\n",
    "    df[\"doy\"] = df.index.day_of_year\n",
    "\n",
    "    # read cons data to get daily averages\n",
    "    dfdat = pd.read_csv(f\"datasets/2021_2023_{place}_train.csv\")\n",
    "    dfdat.columns = [\"ts\", \"cons\"]\n",
    "    dfdat[\"ts\"] = pd.to_datetime(dfdat[\"ts\"])\n",
    "    dfdat[\"doy\"] = dfdat[\"ts\"].dt.day_of_year\n",
    "    \n",
    "    # grab min, max, mean values\n",
    "    df[\"max_daily_cons\"] = df[\"doy\"].replace(dfdat.groupby(\"doy\")[\"cons\"].max())\n",
    "    df[\"avg_daily_cons\"] = df[\"doy\"].replace(dfdat.groupby([\"doy\"])[\"cons\"].mean())\n",
    "    df[\"min_daily_cons\"] = df[\"doy\"].replace(dfdat.groupby(\"doy\")[\"cons\"].min())\n",
    "\n",
    "    # drop unused columns and assign correct dtypes\n",
    "    df.drop(columns=[\"date\", \"place\", \"doy\"], inplace=True)\n",
    "    for c in [\"laboral\", \"finde\", \"festivo\", \"horario_laboral\"]:\n",
    "        df[c] = df[c].astype(int)\n",
    "\n",
    "    return df"
   ]
  },
  {
   "cell_type": "markdown",
   "metadata": {},
   "source": [
    "#### Optimización de los datos"
   ]
  },
  {
   "cell_type": "code",
   "execution_count": 15,
   "metadata": {},
   "outputs": [],
   "source": [
    "def reduce_mem_usage(df):\n",
    "    \"\"\" iterate through all the columns of a dataframe and modify the data type\n",
    "        to reduce memory usage.        \n",
    "    \"\"\"\n",
    "    start_mem = df.memory_usage().sum() / 1024**2\n",
    "    print('Memory usage of dataframe is {:.2f} MB'.format(start_mem))\n",
    "    \n",
    "    for col in df.columns:\n",
    "        col_type = df[col].dtype\n",
    "        \n",
    "        if col_type != object:\n",
    "            c_min = df[col].min()\n",
    "            c_max = df[col].max()\n",
    "            if str(col_type)[:3] == 'int':\n",
    "                if c_min > np.iinfo(np.int8).min and c_max < np.iinfo(np.int8).max:\n",
    "                    df[col] = df[col].astype(np.int8)\n",
    "                elif c_min > np.iinfo(np.int16).min and c_max < np.iinfo(np.int16).max:\n",
    "                    df[col] = df[col].astype(np.int16)\n",
    "                elif c_min > np.iinfo(np.int32).min and c_max < np.iinfo(np.int32).max:\n",
    "                    df[col] = df[col].astype(np.int32)\n",
    "                elif c_min > np.iinfo(np.int64).min and c_max < np.iinfo(np.int64).max:\n",
    "                    df[col] = df[col].astype(np.int64)  \n",
    "            else:\n",
    "                if c_min > np.finfo(np.float16).min and c_max < np.finfo(np.float16).max:\n",
    "                    df[col] = df[col].astype(np.float16)\n",
    "                elif c_min > np.finfo(np.float32).min and c_max < np.finfo(np.float32).max:\n",
    "                    df[col] = df[col].astype(np.float32)\n",
    "                else:\n",
    "                    df[col] = df[col].astype(np.float64)\n",
    "        else:\n",
    "            df[col] = df[col].astype('category')\n",
    "\n",
    "    end_mem = df.memory_usage().sum() / 1024**2\n",
    "    print('Memory usage after optimization is: {:.2f} MB'.format(end_mem))\n",
    "    print('Decreased by {:.1f}%'.format(100 * (start_mem - end_mem) / start_mem))\n",
    "    \n",
    "    return df"
   ]
  },
  {
   "cell_type": "markdown",
   "metadata": {},
   "source": [
    "### Entrenamiento de Modelos"
   ]
  },
  {
   "cell_type": "code",
   "execution_count": 53,
   "metadata": {},
   "outputs": [
    {
     "name": "stderr",
     "output_type": "stream",
     "text": [
      "/tmp/ipykernel_453116/472041089.py:11: FutureWarning:\n",
      "\n",
      "DataFrame.interpolate with method=pad is deprecated and will raise in a future version. Use obj.ffill() or obj.bfill() instead.\n",
      "\n",
      "/tmp/ipykernel_453116/472041089.py:11: FutureWarning:\n",
      "\n",
      "DataFrame.interpolate with method=pad is deprecated and will raise in a future version. Use obj.ffill() or obj.bfill() instead.\n",
      "\n"
     ]
    },
    {
     "name": "stdout",
     "output_type": "stream",
     "text": [
      "Memory usage of dataframe is 0.92 MB\n",
      "Memory usage after optimization is: 0.43 MB\n",
      "Decreased by 53.3%\n",
      "Memory usage of dataframe is 0.11 MB\n",
      "Memory usage after optimization is: 0.03 MB\n",
      "Decreased by 72.5%\n"
     ]
    }
   ],
   "source": [
    "target = \"cons\" # objetivo de la predicción\n",
    "place = \"gijon\" # \"gijon\" / \"peon\"\n",
    "forecast_horizon = 24*30*2 # 2 meses, en horas\n",
    "\n",
    "# generate the data\n",
    "df_train = load_train_data(place=place)\n",
    "df_pred = load_pred_data(place=place, start=np.datetime64('2023-04-27T01:00'), nhours=forecast_horizon)\n",
    "\n",
    "# optimize the data\n",
    "df_train = reduce_mem_usage(df_train)\n",
    "df_pred = reduce_mem_usage(df_pred)"
   ]
  },
  {
   "cell_type": "code",
   "execution_count": 54,
   "metadata": {},
   "outputs": [
    {
     "data": {
      "text/html": [
       "<div>\n",
       "<style scoped>\n",
       "    .dataframe tbody tr th:only-of-type {\n",
       "        vertical-align: middle;\n",
       "    }\n",
       "\n",
       "    .dataframe tbody tr th {\n",
       "        vertical-align: top;\n",
       "    }\n",
       "\n",
       "    .dataframe thead th {\n",
       "        text-align: right;\n",
       "    }\n",
       "</style>\n",
       "<table border=\"1\" class=\"dataframe\">\n",
       "  <thead>\n",
       "    <tr style=\"text-align: right;\">\n",
       "      <th></th>\n",
       "      <th>cons</th>\n",
       "      <th>tmax</th>\n",
       "      <th>tmin</th>\n",
       "      <th>festivo</th>\n",
       "      <th>finde</th>\n",
       "      <th>laboral</th>\n",
       "      <th>hour</th>\n",
       "      <th>horario_laboral</th>\n",
       "      <th>dow</th>\n",
       "      <th>max_daily_cons</th>\n",
       "      <th>avg_daily_cons</th>\n",
       "      <th>min_daily_cons</th>\n",
       "    </tr>\n",
       "  </thead>\n",
       "  <tbody>\n",
       "    <tr>\n",
       "      <th>2021-06-26 01:00:00</th>\n",
       "      <td>26.0</td>\n",
       "      <td>19.000000</td>\n",
       "      <td>16.406250</td>\n",
       "      <td>0.0</td>\n",
       "      <td>1.0</td>\n",
       "      <td>0.0</td>\n",
       "      <td>1</td>\n",
       "      <td>0.0</td>\n",
       "      <td>5</td>\n",
       "      <td>31</td>\n",
       "      <td>25.953125</td>\n",
       "      <td>23</td>\n",
       "    </tr>\n",
       "    <tr>\n",
       "      <th>2021-06-26 02:00:00</th>\n",
       "      <td>26.0</td>\n",
       "      <td>19.000000</td>\n",
       "      <td>16.406250</td>\n",
       "      <td>0.0</td>\n",
       "      <td>1.0</td>\n",
       "      <td>0.0</td>\n",
       "      <td>2</td>\n",
       "      <td>0.0</td>\n",
       "      <td>5</td>\n",
       "      <td>31</td>\n",
       "      <td>25.953125</td>\n",
       "      <td>23</td>\n",
       "    </tr>\n",
       "    <tr>\n",
       "      <th>2021-06-26 03:00:00</th>\n",
       "      <td>27.0</td>\n",
       "      <td>19.000000</td>\n",
       "      <td>16.406250</td>\n",
       "      <td>0.0</td>\n",
       "      <td>1.0</td>\n",
       "      <td>0.0</td>\n",
       "      <td>3</td>\n",
       "      <td>0.0</td>\n",
       "      <td>5</td>\n",
       "      <td>31</td>\n",
       "      <td>25.953125</td>\n",
       "      <td>23</td>\n",
       "    </tr>\n",
       "    <tr>\n",
       "      <th>2021-06-26 04:00:00</th>\n",
       "      <td>26.0</td>\n",
       "      <td>19.000000</td>\n",
       "      <td>16.406250</td>\n",
       "      <td>0.0</td>\n",
       "      <td>1.0</td>\n",
       "      <td>0.0</td>\n",
       "      <td>4</td>\n",
       "      <td>0.0</td>\n",
       "      <td>5</td>\n",
       "      <td>31</td>\n",
       "      <td>25.953125</td>\n",
       "      <td>23</td>\n",
       "    </tr>\n",
       "    <tr>\n",
       "      <th>2021-06-26 05:00:00</th>\n",
       "      <td>27.0</td>\n",
       "      <td>19.000000</td>\n",
       "      <td>16.406250</td>\n",
       "      <td>0.0</td>\n",
       "      <td>1.0</td>\n",
       "      <td>0.0</td>\n",
       "      <td>5</td>\n",
       "      <td>0.0</td>\n",
       "      <td>5</td>\n",
       "      <td>31</td>\n",
       "      <td>25.953125</td>\n",
       "      <td>23</td>\n",
       "    </tr>\n",
       "    <tr>\n",
       "      <th>...</th>\n",
       "      <td>...</td>\n",
       "      <td>...</td>\n",
       "      <td>...</td>\n",
       "      <td>...</td>\n",
       "      <td>...</td>\n",
       "      <td>...</td>\n",
       "      <td>...</td>\n",
       "      <td>...</td>\n",
       "      <td>...</td>\n",
       "      <td>...</td>\n",
       "      <td>...</td>\n",
       "      <td>...</td>\n",
       "    </tr>\n",
       "    <tr>\n",
       "      <th>2023-04-26 20:00:00</th>\n",
       "      <td>27.0</td>\n",
       "      <td>22.906250</td>\n",
       "      <td>15.500000</td>\n",
       "      <td>0.0</td>\n",
       "      <td>0.0</td>\n",
       "      <td>1.0</td>\n",
       "      <td>20</td>\n",
       "      <td>0.0</td>\n",
       "      <td>2</td>\n",
       "      <td>66</td>\n",
       "      <td>41.562500</td>\n",
       "      <td>23</td>\n",
       "    </tr>\n",
       "    <tr>\n",
       "      <th>2023-04-26 21:00:00</th>\n",
       "      <td>27.0</td>\n",
       "      <td>22.906250</td>\n",
       "      <td>15.500000</td>\n",
       "      <td>0.0</td>\n",
       "      <td>0.0</td>\n",
       "      <td>1.0</td>\n",
       "      <td>21</td>\n",
       "      <td>0.0</td>\n",
       "      <td>2</td>\n",
       "      <td>66</td>\n",
       "      <td>41.562500</td>\n",
       "      <td>23</td>\n",
       "    </tr>\n",
       "    <tr>\n",
       "      <th>2023-04-26 22:00:00</th>\n",
       "      <td>26.0</td>\n",
       "      <td>22.906250</td>\n",
       "      <td>15.500000</td>\n",
       "      <td>0.0</td>\n",
       "      <td>0.0</td>\n",
       "      <td>1.0</td>\n",
       "      <td>22</td>\n",
       "      <td>0.0</td>\n",
       "      <td>2</td>\n",
       "      <td>66</td>\n",
       "      <td>41.562500</td>\n",
       "      <td>23</td>\n",
       "    </tr>\n",
       "    <tr>\n",
       "      <th>2023-04-26 23:00:00</th>\n",
       "      <td>27.0</td>\n",
       "      <td>22.906250</td>\n",
       "      <td>15.500000</td>\n",
       "      <td>0.0</td>\n",
       "      <td>0.0</td>\n",
       "      <td>1.0</td>\n",
       "      <td>23</td>\n",
       "      <td>0.0</td>\n",
       "      <td>2</td>\n",
       "      <td>66</td>\n",
       "      <td>41.562500</td>\n",
       "      <td>23</td>\n",
       "    </tr>\n",
       "    <tr>\n",
       "      <th>2023-04-27 00:00:00</th>\n",
       "      <td>27.0</td>\n",
       "      <td>22.703125</td>\n",
       "      <td>14.296875</td>\n",
       "      <td>0.0</td>\n",
       "      <td>0.0</td>\n",
       "      <td>1.0</td>\n",
       "      <td>0</td>\n",
       "      <td>0.0</td>\n",
       "      <td>3</td>\n",
       "      <td>61</td>\n",
       "      <td>39.906250</td>\n",
       "      <td>27</td>\n",
       "    </tr>\n",
       "  </tbody>\n",
       "</table>\n",
       "<p>16080 rows × 12 columns</p>\n",
       "</div>"
      ],
      "text/plain": [
       "                     cons       tmax       tmin  festivo  finde  laboral  \\\n",
       "2021-06-26 01:00:00  26.0  19.000000  16.406250      0.0    1.0      0.0   \n",
       "2021-06-26 02:00:00  26.0  19.000000  16.406250      0.0    1.0      0.0   \n",
       "2021-06-26 03:00:00  27.0  19.000000  16.406250      0.0    1.0      0.0   \n",
       "2021-06-26 04:00:00  26.0  19.000000  16.406250      0.0    1.0      0.0   \n",
       "2021-06-26 05:00:00  27.0  19.000000  16.406250      0.0    1.0      0.0   \n",
       "...                   ...        ...        ...      ...    ...      ...   \n",
       "2023-04-26 20:00:00  27.0  22.906250  15.500000      0.0    0.0      1.0   \n",
       "2023-04-26 21:00:00  27.0  22.906250  15.500000      0.0    0.0      1.0   \n",
       "2023-04-26 22:00:00  26.0  22.906250  15.500000      0.0    0.0      1.0   \n",
       "2023-04-26 23:00:00  27.0  22.906250  15.500000      0.0    0.0      1.0   \n",
       "2023-04-27 00:00:00  27.0  22.703125  14.296875      0.0    0.0      1.0   \n",
       "\n",
       "                     hour  horario_laboral  dow  max_daily_cons  \\\n",
       "2021-06-26 01:00:00     1              0.0    5              31   \n",
       "2021-06-26 02:00:00     2              0.0    5              31   \n",
       "2021-06-26 03:00:00     3              0.0    5              31   \n",
       "2021-06-26 04:00:00     4              0.0    5              31   \n",
       "2021-06-26 05:00:00     5              0.0    5              31   \n",
       "...                   ...              ...  ...             ...   \n",
       "2023-04-26 20:00:00    20              0.0    2              66   \n",
       "2023-04-26 21:00:00    21              0.0    2              66   \n",
       "2023-04-26 22:00:00    22              0.0    2              66   \n",
       "2023-04-26 23:00:00    23              0.0    2              66   \n",
       "2023-04-27 00:00:00     0              0.0    3              61   \n",
       "\n",
       "                     avg_daily_cons  min_daily_cons  \n",
       "2021-06-26 01:00:00       25.953125              23  \n",
       "2021-06-26 02:00:00       25.953125              23  \n",
       "2021-06-26 03:00:00       25.953125              23  \n",
       "2021-06-26 04:00:00       25.953125              23  \n",
       "2021-06-26 05:00:00       25.953125              23  \n",
       "...                             ...             ...  \n",
       "2023-04-26 20:00:00       41.562500              23  \n",
       "2023-04-26 21:00:00       41.562500              23  \n",
       "2023-04-26 22:00:00       41.562500              23  \n",
       "2023-04-26 23:00:00       41.562500              23  \n",
       "2023-04-27 00:00:00       39.906250              27  \n",
       "\n",
       "[16080 rows x 12 columns]"
      ]
     },
     "execution_count": 54,
     "metadata": {},
     "output_type": "execute_result"
    }
   ],
   "source": [
    "df_train"
   ]
  },
  {
   "cell_type": "code",
   "execution_count": 55,
   "metadata": {},
   "outputs": [
    {
     "data": {
      "text/html": [
       "<div>\n",
       "<style scoped>\n",
       "    .dataframe tbody tr th:only-of-type {\n",
       "        vertical-align: middle;\n",
       "    }\n",
       "\n",
       "    .dataframe tbody tr th {\n",
       "        vertical-align: top;\n",
       "    }\n",
       "\n",
       "    .dataframe thead th {\n",
       "        text-align: right;\n",
       "    }\n",
       "</style>\n",
       "<table border=\"1\" class=\"dataframe\">\n",
       "  <thead>\n",
       "    <tr style=\"text-align: right;\">\n",
       "      <th></th>\n",
       "      <th>tmax</th>\n",
       "      <th>tmin</th>\n",
       "      <th>festivo</th>\n",
       "      <th>finde</th>\n",
       "      <th>laboral</th>\n",
       "      <th>hour</th>\n",
       "      <th>horario_laboral</th>\n",
       "      <th>dow</th>\n",
       "      <th>max_daily_cons</th>\n",
       "      <th>avg_daily_cons</th>\n",
       "      <th>min_daily_cons</th>\n",
       "    </tr>\n",
       "  </thead>\n",
       "  <tbody>\n",
       "    <tr>\n",
       "      <th>2023-04-27 01:00:00</th>\n",
       "      <td>22.703125</td>\n",
       "      <td>14.296875</td>\n",
       "      <td>0</td>\n",
       "      <td>0</td>\n",
       "      <td>1</td>\n",
       "      <td>1</td>\n",
       "      <td>0</td>\n",
       "      <td>3</td>\n",
       "      <td>61</td>\n",
       "      <td>39.906250</td>\n",
       "      <td>27</td>\n",
       "    </tr>\n",
       "    <tr>\n",
       "      <th>2023-04-27 02:00:00</th>\n",
       "      <td>22.703125</td>\n",
       "      <td>14.296875</td>\n",
       "      <td>0</td>\n",
       "      <td>0</td>\n",
       "      <td>1</td>\n",
       "      <td>2</td>\n",
       "      <td>0</td>\n",
       "      <td>3</td>\n",
       "      <td>61</td>\n",
       "      <td>39.906250</td>\n",
       "      <td>27</td>\n",
       "    </tr>\n",
       "    <tr>\n",
       "      <th>2023-04-27 03:00:00</th>\n",
       "      <td>22.703125</td>\n",
       "      <td>14.296875</td>\n",
       "      <td>0</td>\n",
       "      <td>0</td>\n",
       "      <td>1</td>\n",
       "      <td>3</td>\n",
       "      <td>0</td>\n",
       "      <td>3</td>\n",
       "      <td>61</td>\n",
       "      <td>39.906250</td>\n",
       "      <td>27</td>\n",
       "    </tr>\n",
       "    <tr>\n",
       "      <th>2023-04-27 04:00:00</th>\n",
       "      <td>22.703125</td>\n",
       "      <td>14.296875</td>\n",
       "      <td>0</td>\n",
       "      <td>0</td>\n",
       "      <td>1</td>\n",
       "      <td>4</td>\n",
       "      <td>0</td>\n",
       "      <td>3</td>\n",
       "      <td>61</td>\n",
       "      <td>39.906250</td>\n",
       "      <td>27</td>\n",
       "    </tr>\n",
       "    <tr>\n",
       "      <th>2023-04-27 05:00:00</th>\n",
       "      <td>22.703125</td>\n",
       "      <td>14.296875</td>\n",
       "      <td>0</td>\n",
       "      <td>0</td>\n",
       "      <td>1</td>\n",
       "      <td>5</td>\n",
       "      <td>0</td>\n",
       "      <td>3</td>\n",
       "      <td>61</td>\n",
       "      <td>39.906250</td>\n",
       "      <td>27</td>\n",
       "    </tr>\n",
       "    <tr>\n",
       "      <th>...</th>\n",
       "      <td>...</td>\n",
       "      <td>...</td>\n",
       "      <td>...</td>\n",
       "      <td>...</td>\n",
       "      <td>...</td>\n",
       "      <td>...</td>\n",
       "      <td>...</td>\n",
       "      <td>...</td>\n",
       "      <td>...</td>\n",
       "      <td>...</td>\n",
       "      <td>...</td>\n",
       "    </tr>\n",
       "    <tr>\n",
       "      <th>2023-06-25 20:00:00</th>\n",
       "      <td>24.000000</td>\n",
       "      <td>19.093750</td>\n",
       "      <td>0</td>\n",
       "      <td>1</td>\n",
       "      <td>0</td>\n",
       "      <td>20</td>\n",
       "      <td>0</td>\n",
       "      <td>6</td>\n",
       "      <td>28</td>\n",
       "      <td>25.171875</td>\n",
       "      <td>24</td>\n",
       "    </tr>\n",
       "    <tr>\n",
       "      <th>2023-06-25 21:00:00</th>\n",
       "      <td>24.000000</td>\n",
       "      <td>19.093750</td>\n",
       "      <td>0</td>\n",
       "      <td>1</td>\n",
       "      <td>0</td>\n",
       "      <td>21</td>\n",
       "      <td>0</td>\n",
       "      <td>6</td>\n",
       "      <td>28</td>\n",
       "      <td>25.171875</td>\n",
       "      <td>24</td>\n",
       "    </tr>\n",
       "    <tr>\n",
       "      <th>2023-06-25 22:00:00</th>\n",
       "      <td>24.000000</td>\n",
       "      <td>19.093750</td>\n",
       "      <td>0</td>\n",
       "      <td>1</td>\n",
       "      <td>0</td>\n",
       "      <td>22</td>\n",
       "      <td>0</td>\n",
       "      <td>6</td>\n",
       "      <td>28</td>\n",
       "      <td>25.171875</td>\n",
       "      <td>24</td>\n",
       "    </tr>\n",
       "    <tr>\n",
       "      <th>2023-06-25 23:00:00</th>\n",
       "      <td>24.000000</td>\n",
       "      <td>19.093750</td>\n",
       "      <td>0</td>\n",
       "      <td>1</td>\n",
       "      <td>0</td>\n",
       "      <td>23</td>\n",
       "      <td>0</td>\n",
       "      <td>6</td>\n",
       "      <td>28</td>\n",
       "      <td>25.171875</td>\n",
       "      <td>24</td>\n",
       "    </tr>\n",
       "    <tr>\n",
       "      <th>2023-06-26 00:00:00</th>\n",
       "      <td>24.000000</td>\n",
       "      <td>19.093750</td>\n",
       "      <td>0</td>\n",
       "      <td>0</td>\n",
       "      <td>1</td>\n",
       "      <td>0</td>\n",
       "      <td>0</td>\n",
       "      <td>0</td>\n",
       "      <td>31</td>\n",
       "      <td>25.953125</td>\n",
       "      <td>23</td>\n",
       "    </tr>\n",
       "  </tbody>\n",
       "</table>\n",
       "<p>1440 rows × 11 columns</p>\n",
       "</div>"
      ],
      "text/plain": [
       "                          tmax       tmin  festivo  finde  laboral  hour  \\\n",
       "2023-04-27 01:00:00  22.703125  14.296875        0      0        1     1   \n",
       "2023-04-27 02:00:00  22.703125  14.296875        0      0        1     2   \n",
       "2023-04-27 03:00:00  22.703125  14.296875        0      0        1     3   \n",
       "2023-04-27 04:00:00  22.703125  14.296875        0      0        1     4   \n",
       "2023-04-27 05:00:00  22.703125  14.296875        0      0        1     5   \n",
       "...                        ...        ...      ...    ...      ...   ...   \n",
       "2023-06-25 20:00:00  24.000000  19.093750        0      1        0    20   \n",
       "2023-06-25 21:00:00  24.000000  19.093750        0      1        0    21   \n",
       "2023-06-25 22:00:00  24.000000  19.093750        0      1        0    22   \n",
       "2023-06-25 23:00:00  24.000000  19.093750        0      1        0    23   \n",
       "2023-06-26 00:00:00  24.000000  19.093750        0      0        1     0   \n",
       "\n",
       "                     horario_laboral  dow  max_daily_cons  avg_daily_cons  \\\n",
       "2023-04-27 01:00:00                0    3              61       39.906250   \n",
       "2023-04-27 02:00:00                0    3              61       39.906250   \n",
       "2023-04-27 03:00:00                0    3              61       39.906250   \n",
       "2023-04-27 04:00:00                0    3              61       39.906250   \n",
       "2023-04-27 05:00:00                0    3              61       39.906250   \n",
       "...                              ...  ...             ...             ...   \n",
       "2023-06-25 20:00:00                0    6              28       25.171875   \n",
       "2023-06-25 21:00:00                0    6              28       25.171875   \n",
       "2023-06-25 22:00:00                0    6              28       25.171875   \n",
       "2023-06-25 23:00:00                0    6              28       25.171875   \n",
       "2023-06-26 00:00:00                0    0              31       25.953125   \n",
       "\n",
       "                     min_daily_cons  \n",
       "2023-04-27 01:00:00              27  \n",
       "2023-04-27 02:00:00              27  \n",
       "2023-04-27 03:00:00              27  \n",
       "2023-04-27 04:00:00              27  \n",
       "2023-04-27 05:00:00              27  \n",
       "...                             ...  \n",
       "2023-06-25 20:00:00              24  \n",
       "2023-06-25 21:00:00              24  \n",
       "2023-06-25 22:00:00              24  \n",
       "2023-06-25 23:00:00              24  \n",
       "2023-06-26 00:00:00              23  \n",
       "\n",
       "[1440 rows x 11 columns]"
      ]
     },
     "execution_count": 55,
     "metadata": {},
     "output_type": "execute_result"
    }
   ],
   "source": [
    "df_pred"
   ]
  },
  {
   "cell_type": "code",
   "execution_count": 56,
   "metadata": {},
   "outputs": [],
   "source": [
    "from sklearn.metrics import mean_squared_error, mean_absolute_percentage_error, r2_score\n",
    "from sklearn.model_selection import KFold\n",
    "import lightgbm as lgb\n",
    "import numpy as np\n",
    "import optuna\n",
    "\n",
    "df_train.dropna(inplace=True)\n",
    "X = df_train.drop(\"cons\", axis=1).values\n",
    "y = df_train[[\"cons\"]].values\n",
    "n_splits = 5\n",
    "\n",
    "def objective(trial):\n",
    "    params = {\n",
    "        \"objective\": \"regression\",\n",
    "        \"metric\": \"rmse\",\n",
    "        \"n_estimators\": trial.suggest_int(\"n_estimators\", 200, 1000, log=True),\n",
    "        \"verbosity\": -1,\n",
    "        \"bagging_freq\": 1,\n",
    "        \"learning_rate\": trial.suggest_float(\"learning_rate\", 1e-3, 0.1, log=True),\n",
    "        \"num_leaves\": trial.suggest_int(\"num_leaves\", 2, 2**10),\n",
    "        \"subsample\": trial.suggest_float(\"subsample\", 0.05, 1.0),\n",
    "        \"colsample_bytree\": trial.suggest_float(\"colsample_bytree\", 0.05, 1.0),\n",
    "        \"min_data_in_leaf\": trial.suggest_int(\"min_data_in_leaf\", 1, 100)\n",
    "    }\n",
    "    kf = KFold(n_splits=n_splits)\n",
    "    rmse, mape, r2 = np.zeros(n_splits), np.zeros(n_splits), np.zeros(n_splits)\n",
    "    for i, (train, test) in enumerate(kf.split(np.arange(X.shape[0]))):\n",
    "        X_train, X_val, y_train, y_val = X[train], X[test], y[train], y[test]\n",
    "        model = lgb.LGBMRegressor(**params)\n",
    "        model.fit(X_train, np.squeeze(y_train))\n",
    "        predictions = model.predict(X_val)\n",
    "        rmse[i] = mean_squared_error(np.squeeze(y_val), predictions, squared=False)\n",
    "        mape[i] = mean_absolute_percentage_error(np.squeeze(y_val), predictions)\n",
    "        r2[i] = r2_score(np.squeeze(y_val), predictions)\n",
    " \n",
    "    return rmse.mean(), mape.mean(), r2.mean()"
   ]
  },
  {
   "cell_type": "code",
   "execution_count": 57,
   "metadata": {},
   "outputs": [
    {
     "name": "stderr",
     "output_type": "stream",
     "text": [
      "[I 2023-11-21 20:12:50,496] Using an existing study with name 'lgbm-gijon' instead of creating a new one.\n"
     ]
    }
   ],
   "source": [
    "study = optuna.create_study(\n",
    "    storage=\"sqlite:///optuna-database.sqlite3\",\n",
    "    study_name=f\"lgbm-{place}\",\n",
    "    load_if_exists=True,\n",
    "    directions=['minimize','minimize', 'maximize'])\n",
    "#study.optimize(objective, n_trials=100)"
   ]
  },
  {
   "cell_type": "code",
   "execution_count": 58,
   "metadata": {},
   "outputs": [
    {
     "data": {
      "application/vnd.plotly.v1+json": {
       "config": {
        "plotlyServerURL": "https://plot.ly"
       },
       "data": [
        {
         "hovertemplate": "%{text}<extra>Trial</extra>",
         "marker": {
          "color": [
           0,
           1,
           2,
           3,
           4,
           5,
           6,
           7,
           8,
           9,
           10,
           11,
           12,
           13,
           14,
           15,
           16,
           17,
           18,
           19,
           20,
           21,
           22,
           23,
           25,
           26,
           27,
           28,
           29,
           30,
           31,
           32,
           33,
           34,
           35,
           36,
           37,
           38,
           39,
           40,
           41,
           42,
           43,
           44,
           45,
           46,
           47,
           48,
           49,
           50,
           51,
           52,
           53,
           54,
           55,
           56,
           57,
           58,
           59,
           60,
           61,
           62,
           63,
           64,
           65,
           66,
           67,
           68,
           69,
           70,
           71,
           72,
           73,
           74,
           75,
           76,
           77,
           78,
           79,
           80,
           81,
           82,
           83,
           84,
           85,
           86,
           87,
           88,
           89,
           90,
           91,
           92,
           93,
           94,
           95,
           96,
           97,
           98,
           99
          ],
          "colorbar": {
           "title": {
            "text": "Trial"
           }
          },
          "colorscale": [
           [
            0,
            "rgb(247,251,255)"
           ],
           [
            0.125,
            "rgb(222,235,247)"
           ],
           [
            0.25,
            "rgb(198,219,239)"
           ],
           [
            0.375,
            "rgb(158,202,225)"
           ],
           [
            0.5,
            "rgb(107,174,214)"
           ],
           [
            0.625,
            "rgb(66,146,198)"
           ],
           [
            0.75,
            "rgb(33,113,181)"
           ],
           [
            0.875,
            "rgb(8,81,156)"
           ],
           [
            1,
            "rgb(8,48,107)"
           ]
          ],
          "line": {
           "color": "Grey",
           "width": 0.5
          }
         },
         "mode": "markers",
         "showlegend": false,
         "text": [
          "{<br>  \"number\": 0,<br>  \"values\": [<br>    5.502345571551044,<br>    0.09980235555547116,<br>    0.8628989928576635<br>  ],<br>  \"params\": {<br>    \"n_estimators\": 223,<br>    \"learning_rate\": 0.07129216173672907,<br>    \"num_leaves\": 245,<br>    \"subsample\": 0.8159009221046087,<br>    \"colsample_bytree\": 0.8538687412396276,<br>    \"min_data_in_leaf\": 75<br>  }<br>}",
          "{<br>  \"number\": 1,<br>  \"values\": [<br>    5.455550061142984,<br>    0.10248225083118452,<br>    0.8650259725536795<br>  ],<br>  \"params\": {<br>    \"n_estimators\": 778,<br>    \"learning_rate\": 0.06547516699776815,<br>    \"num_leaves\": 16,<br>    \"subsample\": 0.8701995465436503,<br>    \"colsample_bytree\": 0.7822261060402577,<br>    \"min_data_in_leaf\": 65<br>  }<br>}",
          "{<br>  \"number\": 2,<br>  \"values\": [<br>    6.325372889009847,<br>    0.1311379768214646,<br>    0.8262784655539761<br>  ],<br>  \"params\": {<br>    \"n_estimators\": 710,<br>    \"learning_rate\": 0.002052530578820541,<br>    \"num_leaves\": 102,<br>    \"subsample\": 0.6905070650002558,<br>    \"colsample_bytree\": 0.9502317535811345,<br>    \"min_data_in_leaf\": 8<br>  }<br>}",
          "{<br>  \"number\": 3,<br>  \"values\": [<br>    5.446470184105683,<br>    0.10066534817780677,<br>    0.8656954548957312<br>  ],<br>  \"params\": {<br>    \"n_estimators\": 397,<br>    \"learning_rate\": 0.033179652643637085,<br>    \"num_leaves\": 282,<br>    \"subsample\": 0.534344306009554,<br>    \"colsample_bytree\": 0.6744511369425358,<br>    \"min_data_in_leaf\": 76<br>  }<br>}",
          "{<br>  \"number\": 4,<br>  \"values\": [<br>    13.795815890383702,<br>    0.3291651020378115,<br>    0.18449253170908791<br>  ],<br>  \"params\": {<br>    \"n_estimators\": 454,<br>    \"learning_rate\": 0.001918273831150827,<br>    \"num_leaves\": 780,<br>    \"subsample\": 0.962496038482145,<br>    \"colsample_bytree\": 0.057806737530571556,<br>    \"min_data_in_leaf\": 27<br>  }<br>}",
          "{<br>  \"number\": 5,<br>  \"values\": [<br>    5.740014826547375,<br>    0.10847640950974191,<br>    0.85177032641499<br>  ],<br>  \"params\": {<br>    \"n_estimators\": 571,<br>    \"learning_rate\": 0.08955482091502938,<br>    \"num_leaves\": 488,<br>    \"subsample\": 0.19852269725123134,<br>    \"colsample_bytree\": 0.8435089680392592,<br>    \"min_data_in_leaf\": 48<br>  }<br>}",
          "{<br>  \"number\": 6,<br>  \"values\": [<br>    5.705948918513381,<br>    0.1082766419983194,<br>    0.8525184193058986<br>  ],<br>  \"params\": {<br>    \"n_estimators\": 409,<br>    \"learning_rate\": 0.051677990444925936,<br>    \"num_leaves\": 298,<br>    \"subsample\": 0.17507523548364184,<br>    \"colsample_bytree\": 0.37419805673900747,<br>    \"min_data_in_leaf\": 13<br>  }<br>}",
          "{<br>  \"number\": 7,<br>  \"values\": [<br>    9.63439328022358,<br>    0.24367707862600296,<br>    0.6003425993249858<br>  ],<br>  \"params\": {<br>    \"n_estimators\": 254,<br>    \"learning_rate\": 0.042916991465370896,<br>    \"num_leaves\": 92,<br>    \"subsample\": 0.5855070744028208,<br>    \"colsample_bytree\": 0.09038640215489638,<br>    \"min_data_in_leaf\": 21<br>  }<br>}",
          "{<br>  \"number\": 8,<br>  \"values\": [<br>    5.451475836269548,<br>    0.10200779536591145,<br>    0.86574461464198<br>  ],<br>  \"params\": {<br>    \"n_estimators\": 321,<br>    \"learning_rate\": 0.047208177581059274,<br>    \"num_leaves\": 1013,<br>    \"subsample\": 0.35192510271302735,<br>    \"colsample_bytree\": 0.6718020153858275,<br>    \"min_data_in_leaf\": 77<br>  }<br>}",
          "{<br>  \"number\": 9,<br>  \"values\": [<br>    11.1265008409593,<br>    0.26049068616233095,<br>    0.4702530976812457<br>  ],<br>  \"params\": {<br>    \"n_estimators\": 221,<br>    \"learning_rate\": 0.0022007292360694767,<br>    \"num_leaves\": 812,<br>    \"subsample\": 0.7356570776318408,<br>    \"colsample_bytree\": 0.6428457140704608,<br>    \"min_data_in_leaf\": 71<br>  }<br>}",
          "{<br>  \"number\": 10,<br>  \"values\": [<br>    6.363251252834074,<br>    0.12940601971186663,<br>    0.8245059166241194<br>  ],<br>  \"params\": {<br>    \"n_estimators\": 413,<br>    \"learning_rate\": 0.005663821622459173,<br>    \"num_leaves\": 627,<br>    \"subsample\": 0.6145182836032,<br>    \"colsample_bytree\": 0.48410869638956644,<br>    \"min_data_in_leaf\": 93<br>  }<br>}",
          "{<br>  \"number\": 11,<br>  \"values\": [<br>    5.5370980984727085,<br>    0.10696872204229306,<br>    0.8621299524995706<br>  ],<br>  \"params\": {<br>    \"n_estimators\": 260,<br>    \"learning_rate\": 0.07826972347372234,<br>    \"num_leaves\": 100,<br>    \"subsample\": 0.13021788695093678,<br>    \"colsample_bytree\": 0.49232831929792586,<br>    \"min_data_in_leaf\": 64<br>  }<br>}",
          "{<br>  \"number\": 12,<br>  \"values\": [<br>    5.707426906225838,<br>    0.11028920223510033,<br>    0.8540094842077725<br>  ],<br>  \"params\": {<br>    \"n_estimators\": 562,<br>    \"learning_rate\": 0.006899074877404125,<br>    \"num_leaves\": 923,<br>    \"subsample\": 0.9747857280969785,<br>    \"colsample_bytree\": 0.3336208197042262,<br>    \"min_data_in_leaf\": 43<br>  }<br>}",
          "{<br>  \"number\": 13,<br>  \"values\": [<br>    5.48052494605882,<br>    0.1009730285838398,<br>    0.8639075292920649<br>  ],<br>  \"params\": {<br>    \"n_estimators\": 489,<br>    \"learning_rate\": 0.04382747080492269,<br>    \"num_leaves\": 425,<br>    \"subsample\": 0.5362210363604827,<br>    \"colsample_bytree\": 0.5164152330722106,<br>    \"min_data_in_leaf\": 37<br>  }<br>}",
          "{<br>  \"number\": 14,<br>  \"values\": [<br>    7.057012236839995,<br>    0.15168759915441052,<br>    0.7849998902930482<br>  ],<br>  \"params\": {<br>    \"n_estimators\": 431,<br>    \"learning_rate\": 0.002832409013237938,<br>    \"num_leaves\": 621,<br>    \"subsample\": 0.26468736109300556,<br>    \"colsample_bytree\": 0.7888809593980429,<br>    \"min_data_in_leaf\": 9<br>  }<br>}",
          "{<br>  \"number\": 15,<br>  \"values\": [<br>    10.652028808693357,<br>    0.24902151303546494,<br>    0.5143679047503888<br>  ],<br>  \"params\": {<br>    \"n_estimators\": 204,<br>    \"learning_rate\": 0.00228321174181056,<br>    \"num_leaves\": 207,<br>    \"subsample\": 0.5066624741091762,<br>    \"colsample_bytree\": 0.9418920862120751,<br>    \"min_data_in_leaf\": 15<br>  }<br>}",
          "{<br>  \"number\": 16,<br>  \"values\": [<br>    7.435073028390013,<br>    0.15930811795930538,<br>    0.7620680308478635<br>  ],<br>  \"params\": {<br>    \"n_estimators\": 288,<br>    \"learning_rate\": 0.004989965787732521,<br>    \"num_leaves\": 506,<br>    \"subsample\": 0.22044258264044087,<br>    \"colsample_bytree\": 0.5180611475080314,<br>    \"min_data_in_leaf\": 13<br>  }<br>}",
          "{<br>  \"number\": 17,<br>  \"values\": [<br>    7.112611157247234,<br>    0.15019122881385866,<br>    0.7823960845714957<br>  ],<br>  \"params\": {<br>    \"n_estimators\": 242,<br>    \"learning_rate\": 0.0068328920435268,<br>    \"num_leaves\": 217,<br>    \"subsample\": 0.14833384668103633,<br>    \"colsample_bytree\": 0.5792745642758369,<br>    \"min_data_in_leaf\": 75<br>  }<br>}",
          "{<br>  \"number\": 18,<br>  \"values\": [<br>    13.331242452006412,<br>    0.3193286174749355,<br>    0.23888984225669257<br>  ],<br>  \"params\": {<br>    \"n_estimators\": 214,<br>    \"learning_rate\": 0.0012045156682710455,<br>    \"num_leaves\": 963,<br>    \"subsample\": 0.24537252992508402,<br>    \"colsample_bytree\": 0.4805743740736897,<br>    \"min_data_in_leaf\": 10<br>  }<br>}",
          "{<br>  \"number\": 19,<br>  \"values\": [<br>    8.771192838091961,<br>    0.19860372008873453,<br>    0.6703384093530202<br>  ],<br>  \"params\": {<br>    \"n_estimators\": 214,<br>    \"learning_rate\": 0.0036686197285450673,<br>    \"num_leaves\": 329,<br>    \"subsample\": 0.6525966635848334,<br>    \"colsample_bytree\": 0.8310708393789781,<br>    \"min_data_in_leaf\": 79<br>  }<br>}",
          "{<br>  \"number\": 20,<br>  \"values\": [<br>    13.715950175778909,<br>    0.3273415206681408,<br>    0.1939562767731837<br>  ],<br>  \"params\": {<br>    \"n_estimators\": 754,<br>    \"learning_rate\": 0.001206238443387082,<br>    \"num_leaves\": 9,<br>    \"subsample\": 0.07219708303747986,<br>    \"colsample_bytree\": 0.12468183635506679,<br>    \"min_data_in_leaf\": 32<br>  }<br>}",
          "{<br>  \"number\": 21,<br>  \"values\": [<br>    5.595861634292367,<br>    0.10134587227025098,<br>    0.8582086546947668<br>  ],<br>  \"params\": {<br>    \"n_estimators\": 905,<br>    \"learning_rate\": 0.07069906510751497,<br>    \"num_leaves\": 138,<br>    \"subsample\": 0.8461197737984815,<br>    \"colsample_bytree\": 0.8319637461138666,<br>    \"min_data_in_leaf\": 62<br>  }<br>}",
          "{<br>  \"number\": 22,<br>  \"values\": [<br>    5.629696967304823,<br>    0.10448561421225137,<br>    0.8568214108762037<br>  ],<br>  \"params\": {<br>    \"n_estimators\": 647,<br>    \"learning_rate\": 0.07442177262912797,<br>    \"num_leaves\": 131,<br>    \"subsample\": 0.24481913890789797,<br>    \"colsample_bytree\": 0.8170224378828415,<br>    \"min_data_in_leaf\": 42<br>  }<br>}",
          "{<br>  \"number\": 23,<br>  \"values\": [<br>    13.721671083286504,<br>    0.32702125579148633,<br>    0.19327345919016586<br>  ],<br>  \"params\": {<br>    \"n_estimators\": 356,<br>    \"learning_rate\": 0.0025444770267742567,<br>    \"num_leaves\": 303,<br>    \"subsample\": 0.6693674550921158,<br>    \"colsample_bytree\": 0.07441742771557647,<br>    \"min_data_in_leaf\": 46<br>  }<br>}",
          "{<br>  \"number\": 25,<br>  \"values\": [<br>    10.196715582305634,<br>    0.234250285483647,<br>    0.5550533540730147<br>  ],<br>  \"params\": {<br>    \"n_estimators\": 374,<br>    \"learning_rate\": 0.0018882152845016928,<br>    \"num_leaves\": 408,<br>    \"subsample\": 0.13059296024011996,<br>    \"colsample_bytree\": 0.5133383366148717,<br>    \"min_data_in_leaf\": 46<br>  }<br>}",
          "{<br>  \"number\": 26,<br>  \"values\": [<br>    9.451095839839915,<br>    0.24242984528536055,<br>    0.61499810156964<br>  ],<br>  \"params\": {<br>    \"n_estimators\": 430,<br>    \"learning_rate\": 0.030891955801646515,<br>    \"num_leaves\": 458,<br>    \"subsample\": 0.5261288516079089,<br>    \"colsample_bytree\": 0.10999559394541866,<br>    \"min_data_in_leaf\": 37<br>  }<br>}",
          "{<br>  \"number\": 27,<br>  \"values\": [<br>    6.096073869078748,<br>    0.12311056645291418,<br>    0.8374583470024669<br>  ],<br>  \"params\": {<br>    \"n_estimators\": 452,<br>    \"learning_rate\": 0.005347145240616026,<br>    \"num_leaves\": 349,<br>    \"subsample\": 0.8340850074608154,<br>    \"colsample_bytree\": 0.3473485704964298,<br>    \"min_data_in_leaf\": 89<br>  }<br>}",
          "{<br>  \"number\": 28,<br>  \"values\": [<br>    11.350901796890058,<br>    0.26065994561980577,<br>    0.4481913115272206<br>  ],<br>  \"params\": {<br>    \"n_estimators\": 447,<br>    \"learning_rate\": 0.0027080135157437255,<br>    \"num_leaves\": 355,<br>    \"subsample\": 0.9569410162140177,<br>    \"colsample_bytree\": 0.14295442634397992,<br>    \"min_data_in_leaf\": 12<br>  }<br>}",
          "{<br>  \"number\": 29,<br>  \"values\": [<br>    5.609751095145938,<br>    0.10657818201491016,<br>    0.8610808719123639<br>  ],<br>  \"params\": {<br>    \"n_estimators\": 391,<br>    \"learning_rate\": 0.00818292337793142,<br>    \"num_leaves\": 192,<br>    \"subsample\": 0.0661947910421973,<br>    \"colsample_bytree\": 0.7019186409314944,<br>    \"min_data_in_leaf\": 57<br>  }<br>}",
          "{<br>  \"number\": 30,<br>  \"values\": [<br>    14.01938690463555,<br>    0.33585090957923247,<br>    0.15778960847418522<br>  ],<br>  \"params\": {<br>    \"n_estimators\": 227,<br>    \"learning_rate\": 0.0033602160797181826,<br>    \"num_leaves\": 167,<br>    \"subsample\": 0.538833922431158,<br>    \"colsample_bytree\": 0.12590919109914195,<br>    \"min_data_in_leaf\": 59<br>  }<br>}",
          "{<br>  \"number\": 31,<br>  \"values\": [<br>    5.5894587830162425,<br>    0.1058364317997162,<br>    0.8594650487112746<br>  ],<br>  \"params\": {<br>    \"n_estimators\": 623,<br>    \"learning_rate\": 0.053143956702901285,<br>    \"num_leaves\": 79,<br>    \"subsample\": 0.24966449849864458,<br>    \"colsample_bytree\": 0.9842726834421457,<br>    \"min_data_in_leaf\": 91<br>  }<br>}",
          "{<br>  \"number\": 32,<br>  \"values\": [<br>    7.404957492811363,<br>    0.15905206531720625,<br>    0.7641421863529365<br>  ],<br>  \"params\": {<br>    \"n_estimators\": 222,<br>    \"learning_rate\": 0.00710770738233646,<br>    \"num_leaves\": 78,<br>    \"subsample\": 0.19818354368111452,<br>    \"colsample_bytree\": 0.3957712910032465,<br>    \"min_data_in_leaf\": 88<br>  }<br>}",
          "{<br>  \"number\": 33,<br>  \"values\": [<br>    5.4987002622777705,<br>    0.10094501604877926,<br>    0.8631163238093373<br>  ],<br>  \"params\": {<br>    \"n_estimators\": 338,<br>    \"learning_rate\": 0.06338276081350742,<br>    \"num_leaves\": 1014,<br>    \"subsample\": 0.29874144857481844,<br>    \"colsample_bytree\": 0.7217847665110518,<br>    \"min_data_in_leaf\": 28<br>  }<br>}",
          "{<br>  \"number\": 34,<br>  \"values\": [<br>    5.683764491982975,<br>    0.10671792457501117,<br>    0.8540085604068108<br>  ],<br>  \"params\": {<br>    \"n_estimators\": 871,<br>    \"learning_rate\": 0.053100302192890025,<br>    \"num_leaves\": 344,<br>    \"subsample\": 0.7938473334296988,<br>    \"colsample_bytree\": 0.3515196709205503,<br>    \"min_data_in_leaf\": 76<br>  }<br>}",
          "{<br>  \"number\": 35,<br>  \"values\": [<br>    11.240340238413932,<br>    0.2621441117942499,<br>    0.4586515283679423<br>  ],<br>  \"params\": {<br>    \"n_estimators\": 386,<br>    \"learning_rate\": 0.00855534407648842,<br>    \"num_leaves\": 208,<br>    \"subsample\": 0.4326719496771181,<br>    \"colsample_bytree\": 0.08378817308288783,<br>    \"min_data_in_leaf\": 61<br>  }<br>}",
          "{<br>  \"number\": 36,<br>  \"values\": [<br>    5.528881360478722,<br>    0.1028771659841005,<br>    0.8617515866391834<br>  ],<br>  \"params\": {<br>    \"n_estimators\": 746,<br>    \"learning_rate\": 0.0605134614603551,<br>    \"num_leaves\": 543,<br>    \"subsample\": 0.5765072851122018,<br>    \"colsample_bytree\": 0.48448139369319687,<br>    \"min_data_in_leaf\": 45<br>  }<br>}",
          "{<br>  \"number\": 37,<br>  \"values\": [<br>    10.950468630543071,<br>    0.25695084189703904,<br>    0.4870685678418452<br>  ],<br>  \"params\": {<br>    \"n_estimators\": 213,<br>    \"learning_rate\": 0.0021951265265837652,<br>    \"num_leaves\": 990,<br>    \"subsample\": 0.06888586060364855,<br>    \"colsample_bytree\": 0.9157443686378268,<br>    \"min_data_in_leaf\": 68<br>  }<br>}",
          "{<br>  \"number\": 38,<br>  \"values\": [<br>    13.932377276741883,<br>    0.3333471444795123,<br>    0.16823923054136727<br>  ],<br>  \"params\": {<br>    \"n_estimators\": 730,<br>    \"learning_rate\": 0.0010910428736754677,<br>    \"num_leaves\": 777,<br>    \"subsample\": 0.5463423041979707,<br>    \"colsample_bytree\": 0.10937454135672575,<br>    \"min_data_in_leaf\": 42<br>  }<br>}",
          "{<br>  \"number\": 39,<br>  \"values\": [<br>    13.289382047200235,<br>    0.3146087995098355,<br>    0.24341469365635712<br>  ],<br>  \"params\": {<br>    \"n_estimators\": 685,<br>    \"learning_rate\": 0.0017438670973312467,<br>    \"num_leaves\": 687,<br>    \"subsample\": 0.11131583167612022,<br>    \"colsample_bytree\": 0.1328587336908461,<br>    \"min_data_in_leaf\": 52<br>  }<br>}",
          "{<br>  \"number\": 40,<br>  \"values\": [<br>    5.587840360869732,<br>    0.10462431156805219,<br>    0.8584397008105924<br>  ],<br>  \"params\": {<br>    \"n_estimators\": 291,<br>    \"learning_rate\": 0.09822347740582657,<br>    \"num_leaves\": 621,<br>    \"subsample\": 0.42458040196582614,<br>    \"colsample_bytree\": 0.618191041527123,<br>    \"min_data_in_leaf\": 54<br>  }<br>}",
          "{<br>  \"number\": 41,<br>  \"values\": [<br>    5.855908259567324,<br>    0.11656660955012636,<br>    0.8478081047358232<br>  ],<br>  \"params\": {<br>    \"n_estimators\": 495,<br>    \"learning_rate\": 0.014733625555018497,<br>    \"num_leaves\": 685,<br>    \"subsample\": 0.9544227123013,<br>    \"colsample_bytree\": 0.23680729106895199,<br>    \"min_data_in_leaf\": 59<br>  }<br>}",
          "{<br>  \"number\": 42,<br>  \"values\": [<br>    13.259250624801222,<br>    0.31299303146122354,<br>    0.24681766716625103<br>  ],<br>  \"params\": {<br>    \"n_estimators\": 427,<br>    \"learning_rate\": 0.0028960173979848797,<br>    \"num_leaves\": 898,<br>    \"subsample\": 0.27845191027593796,<br>    \"colsample_bytree\": 0.12086444244522124,<br>    \"min_data_in_leaf\": 12<br>  }<br>}",
          "{<br>  \"number\": 43,<br>  \"values\": [<br>    8.556314771393238,<br>    0.18706393914707328,<br>    0.6862552795660752<br>  ],<br>  \"params\": {<br>    \"n_estimators\": 227,<br>    \"learning_rate\": 0.008740275509896128,<br>    \"num_leaves\": 663,<br>    \"subsample\": 0.05829339466031078,<br>    \"colsample_bytree\": 0.2780412049001264,<br>    \"min_data_in_leaf\": 39<br>  }<br>}",
          "{<br>  \"number\": 44,<br>  \"values\": [<br>    6.10245835093741,<br>    0.12420543853428016,<br>    0.8383817565647153<br>  ],<br>  \"params\": {<br>    \"n_estimators\": 327,<br>    \"learning_rate\": 0.005093392583317941,<br>    \"num_leaves\": 711,<br>    \"subsample\": 0.20402917803519094,<br>    \"colsample_bytree\": 0.8975561626827262,<br>    \"min_data_in_leaf\": 56<br>  }<br>}",
          "{<br>  \"number\": 45,<br>  \"values\": [<br>    5.382911459426195,<br>    0.09996873252486613,<br>    0.869282888270714<br>  ],<br>  \"params\": {<br>    \"n_estimators\": 366,<br>    \"learning_rate\": 0.01369435302479543,<br>    \"num_leaves\": 518,<br>    \"subsample\": 0.2983541974733038,<br>    \"colsample_bytree\": 0.5009095033343489,<br>    \"min_data_in_leaf\": 21<br>  }<br>}",
          "{<br>  \"number\": 46,<br>  \"values\": [<br>    5.383291192622361,<br>    0.09854643951779563,<br>    0.8687313452788337<br>  ],<br>  \"params\": {<br>    \"n_estimators\": 853,<br>    \"learning_rate\": 0.00750194926349025,<br>    \"num_leaves\": 968,<br>    \"subsample\": 0.9790811822283269,<br>    \"colsample_bytree\": 0.5345565962834222,<br>    \"min_data_in_leaf\": 61<br>  }<br>}",
          "{<br>  \"number\": 47,<br>  \"values\": [<br>    5.925167570696965,<br>    0.12176656143923972,<br>    0.8417607144559248<br>  ],<br>  \"params\": {<br>    \"n_estimators\": 885,<br>    \"learning_rate\": 0.04368554942245922,<br>    \"num_leaves\": 845,<br>    \"subsample\": 0.1585682866262767,<br>    \"colsample_bytree\": 0.15514113675928257,<br>    \"min_data_in_leaf\": 55<br>  }<br>}",
          "{<br>  \"number\": 48,<br>  \"values\": [<br>    9.939854467835337,<br>    0.226580927019975,<br>    0.5770735959192398<br>  ],<br>  \"params\": {<br>    \"n_estimators\": 225,<br>    \"learning_rate\": 0.003732825104559457,<br>    \"num_leaves\": 198,<br>    \"subsample\": 0.651975230491191,<br>    \"colsample_bytree\": 0.4548727758339191,<br>    \"min_data_in_leaf\": 61<br>  }<br>}",
          "{<br>  \"number\": 49,<br>  \"values\": [<br>    12.288321921701161,<br>    0.2908546050694595,<br>    0.3535881517322375<br>  ],<br>  \"params\": {<br>    \"n_estimators\": 402,<br>    \"learning_rate\": 0.0010059253307241024,<br>    \"num_leaves\": 645,<br>    \"subsample\": 0.30793332840498655,<br>    \"colsample_bytree\": 0.4269309277440881,<br>    \"min_data_in_leaf\": 12<br>  }<br>}",
          "{<br>  \"number\": 50,<br>  \"values\": [<br>    9.430812045785009,<br>    0.21643857647355605,<br>    0.6189371536538637<br>  ],<br>  \"params\": {<br>    \"n_estimators\": 291,<br>    \"learning_rate\": 0.0021951265265837652,<br>    \"num_leaves\": 990,<br>    \"subsample\": 0.42458040196582614,<br>    \"colsample_bytree\": 0.9157443686378268,<br>    \"min_data_in_leaf\": 7<br>  }<br>}",
          "{<br>  \"number\": 51,<br>  \"values\": [<br>    5.446470184105683,<br>    0.10066534817780677,<br>    0.8656954548957312<br>  ],<br>  \"params\": {<br>    \"n_estimators\": 397,<br>    \"learning_rate\": 0.033179652643637085,<br>    \"num_leaves\": 282,<br>    \"subsample\": 0.534344306009554,<br>    \"colsample_bytree\": 0.6744511369425358,<br>    \"min_data_in_leaf\": 76<br>  }<br>}",
          "{<br>  \"number\": 52,<br>  \"values\": [<br>    9.334674307847136,<br>    0.24338848228135124,<br>    0.6233284633828223<br>  ],<br>  \"params\": {<br>    \"n_estimators\": 334,<br>    \"learning_rate\": 0.06338276081350742,<br>    \"num_leaves\": 711,<br>    \"subsample\": 0.25997788143077943,<br>    \"colsample_bytree\": 0.10734284438773503,<br>    \"min_data_in_leaf\": 28<br>  }<br>}",
          "{<br>  \"number\": 53,<br>  \"values\": [<br>    5.407558816729828,<br>    0.09905526553102009,<br>    0.8671548781546967<br>  ],<br>  \"params\": {<br>    \"n_estimators\": 223,<br>    \"learning_rate\": 0.047208177581059274,<br>    \"num_leaves\": 1013,<br>    \"subsample\": 0.8159009221046087,<br>    \"colsample_bytree\": 0.6718020153858275,<br>    \"min_data_in_leaf\": 77<br>  }<br>}",
          "{<br>  \"number\": 54,<br>  \"values\": [<br>    5.5334492557970405,<br>    0.1026544300921078,<br>    0.8616044413918924<br>  ],<br>  \"params\": {<br>    \"n_estimators\": 857,<br>    \"learning_rate\": 0.033179652643637085,<br>    \"num_leaves\": 282,<br>    \"subsample\": 0.4701054072222222,<br>    \"colsample_bytree\": 0.5345565962834222,<br>    \"min_data_in_leaf\": 61<br>  }<br>}",
          "{<br>  \"number\": 55,<br>  \"values\": [<br>    5.930920875144482,<br>    0.11564193127431872,<br>    0.8457843385097175<br>  ],<br>  \"params\": {<br>    \"n_estimators\": 489,<br>    \"learning_rate\": 0.005348367419530724,<br>    \"num_leaves\": 425,<br>    \"subsample\": 0.9981333546882969,<br>    \"colsample_bytree\": 0.5164152330722106,<br>    \"min_data_in_leaf\": 12<br>  }<br>}",
          "{<br>  \"number\": 56,<br>  \"values\": [<br>    5.510053810407085,<br>    0.10258742885556535,<br>    0.8622750476596954<br>  ],<br>  \"params\": {<br>    \"n_estimators\": 291,<br>    \"learning_rate\": 0.09822347740582657,<br>    \"num_leaves\": 621,<br>    \"subsample\": 0.42458040196582614,<br>    \"colsample_bytree\": 0.7348350053664934,<br>    \"min_data_in_leaf\": 54<br>  }<br>}",
          "{<br>  \"number\": 57,<br>  \"values\": [<br>    5.500598635506434,<br>    0.10004973833105157,<br>    0.8631038192915277<br>  ],<br>  \"params\": {<br>    \"n_estimators\": 623,<br>    \"learning_rate\": 0.053143956702901285,<br>    \"num_leaves\": 427,<br>    \"subsample\": 0.7680489859825703,<br>    \"colsample_bytree\": 0.723963377313209,<br>    \"min_data_in_leaf\": 64<br>  }<br>}",
          "{<br>  \"number\": 58,<br>  \"values\": [<br>    5.572291470800707,<br>    0.10060613760634347,<br>    0.8591520618144519<br>  ],<br>  \"params\": {<br>    \"n_estimators\": 627,<br>    \"learning_rate\": 0.07129216173672907,<br>    \"num_leaves\": 349,<br>    \"subsample\": 0.8159009221046087,<br>    \"colsample_bytree\": 0.8538687412396276,<br>    \"min_data_in_leaf\": 56<br>  }<br>}",
          "{<br>  \"number\": 59,<br>  \"values\": [<br>    5.662494898762294,<br>    0.11031961716504982,<br>    0.854560541949813<br>  ],<br>  \"params\": {<br>    \"n_estimators\": 571,<br>    \"learning_rate\": 0.08955482091502938,<br>    \"num_leaves\": 543,<br>    \"subsample\": 0.5765072851122018,<br>    \"colsample_bytree\": 0.2908646162924709,<br>    \"min_data_in_leaf\": 48<br>  }<br>}",
          "{<br>  \"number\": 60,<br>  \"values\": [<br>    10.355716520285899,<br>    0.23389269610809277,<br>    0.5407760264589803<br>  ],<br>  \"params\": {<br>    \"n_estimators\": 222,<br>    \"learning_rate\": 0.00710770738233646,<br>    \"num_leaves\": 845,<br>    \"subsample\": 0.19818354368111452,<br>    \"colsample_bytree\": 0.15514113675928257,<br>    \"min_data_in_leaf\": 88<br>  }<br>}",
          "{<br>  \"number\": 61,<br>  \"values\": [<br>    9.696580616368957,<br>    0.22182650395730125,<br>    0.5975879130851945<br>  ],<br>  \"params\": {<br>    \"n_estimators\": 321,<br>    \"learning_rate\": 0.00228321174181056,<br>    \"num_leaves\": 207,<br>    \"subsample\": 0.35192510271302735,<br>    \"colsample_bytree\": 0.6718020153858275,<br>    \"min_data_in_leaf\": 77<br>  }<br>}",
          "{<br>  \"number\": 62,<br>  \"values\": [<br>    5.5892387941044595,<br>    0.10701346165489445,<br>    0.8583869457133888<br>  ],<br>  \"params\": {<br>    \"n_estimators\": 778,<br>    \"learning_rate\": 0.06547516699776815,<br>    \"num_leaves\": 16,<br>    \"subsample\": 0.48957584630664014,<br>    \"colsample_bytree\": 0.3957712910032465,<br>    \"min_data_in_leaf\": 88<br>  }<br>}",
          "{<br>  \"number\": 63,<br>  \"values\": [<br>    11.26926247217552,<br>    0.26299062978955107,<br>    0.4559115556076286<br>  ],<br>  \"params\": {<br>    \"n_estimators\": 391,<br>    \"learning_rate\": 0.00818292337793142,<br>    \"num_leaves\": 890,<br>    \"subsample\": 0.11131583167612022,<br>    \"colsample_bytree\": 0.1328587336908461,<br>    \"min_data_in_leaf\": 57<br>  }<br>}",
          "{<br>  \"number\": 64,<br>  \"values\": [<br>    5.4166863799214395,<br>    0.09881625656784938,<br>    0.8666345343498383<br>  ],<br>  \"params\": {<br>    \"n_estimators\": 338,<br>    \"learning_rate\": 0.06338276081350742,<br>    \"num_leaves\": 46,<br>    \"subsample\": 0.6594567725087626,<br>    \"colsample_bytree\": 0.7217847665110518,<br>    \"min_data_in_leaf\": 28<br>  }<br>}",
          "{<br>  \"number\": 65,<br>  \"values\": [<br>    5.570803892740653,<br>    0.10647041604606475,<br>    0.8626869824795328<br>  ],<br>  \"params\": {<br>    \"n_estimators\": 529,<br>    \"learning_rate\": 0.0068328920435268,<br>    \"num_leaves\": 845,<br>    \"subsample\": 0.14833384668103633,<br>    \"colsample_bytree\": 0.5792745642758369,<br>    \"min_data_in_leaf\": 75<br>  }<br>}",
          "{<br>  \"number\": 66,<br>  \"values\": [<br>    5.593345592375127,<br>    0.10233033151174653,<br>    0.8586916299738176<br>  ],<br>  \"params\": {<br>    \"n_estimators\": 871,<br>    \"learning_rate\": 0.053100302192890025,<br>    \"num_leaves\": 245,<br>    \"subsample\": 0.7938473334296988,<br>    \"colsample_bytree\": 0.8538687412396276,<br>    \"min_data_in_leaf\": 75<br>  }<br>}",
          "{<br>  \"number\": 67,<br>  \"values\": [<br>    6.120682955240021,<br>    0.12354535847745025,<br>    0.8360799401175679<br>  ],<br>  \"params\": {<br>    \"n_estimators\": 452,<br>    \"learning_rate\": 0.005347145240616026,<br>    \"num_leaves\": 349,<br>    \"subsample\": 0.8159009221046087,<br>    \"colsample_bytree\": 0.4014559452406705,<br>    \"min_data_in_leaf\": 75<br>  }<br>}",
          "{<br>  \"number\": 68,<br>  \"values\": [<br>    13.721671083286504,<br>    0.32702125579148633,<br>    0.19327345919016586<br>  ],<br>  \"params\": {<br>    \"n_estimators\": 356,<br>    \"learning_rate\": 0.0025444770267742567,<br>    \"num_leaves\": 303,<br>    \"subsample\": 0.6693674550921158,<br>    \"colsample_bytree\": 0.07441742771557647,<br>    \"min_data_in_leaf\": 46<br>  }<br>}",
          "{<br>  \"number\": 69,<br>  \"values\": [<br>    5.383973345178025,<br>    0.09843554330840115,<br>    0.8688391131700861<br>  ],<br>  \"params\": {<br>    \"n_estimators\": 853,<br>    \"learning_rate\": 0.006899074877404125,<br>    \"num_leaves\": 968,<br>    \"subsample\": 0.9790811822283269,<br>    \"colsample_bytree\": 0.5345565962834222,<br>    \"min_data_in_leaf\": 43<br>  }<br>}",
          "{<br>  \"number\": 70,<br>  \"values\": [<br>    5.5697176095169905,<br>    0.10206951742934747,<br>    0.8599797874491946<br>  ],<br>  \"params\": {<br>    \"n_estimators\": 802,<br>    \"learning_rate\": 0.04382747080492269,<br>    \"num_leaves\": 329,<br>    \"subsample\": 0.6525966635848334,<br>    \"colsample_bytree\": 0.8310708393789781,<br>    \"min_data_in_leaf\": 79<br>  }<br>}",
          "{<br>  \"number\": 71,<br>  \"values\": [<br>    5.628778011153658,<br>    0.10418052228447025,<br>    0.8575123527784637<br>  ],<br>  \"params\": {<br>    \"n_estimators\": 905,<br>    \"learning_rate\": 0.07069906510751497,<br>    \"num_leaves\": 138,<br>    \"subsample\": 0.4326719496771181,<br>    \"colsample_bytree\": 0.7876166985480071,<br>    \"min_data_in_leaf\": 62<br>  }<br>}",
          "{<br>  \"number\": 72,<br>  \"values\": [<br>    5.389090138818834,<br>    0.09913379425945434,<br>    0.8684212436753113<br>  ],<br>  \"params\": {<br>    \"n_estimators\": 571,<br>    \"learning_rate\": 0.015225078184448695,<br>    \"num_leaves\": 488,<br>    \"subsample\": 0.5362210363604827,<br>    \"colsample_bytree\": 0.7417089737935555,<br>    \"min_data_in_leaf\": 91<br>  }<br>}",
          "{<br>  \"number\": 73,<br>  \"values\": [<br>    6.371748610323438,<br>    0.1341091075303882,<br>    0.8217656239187304<br>  ],<br>  \"params\": {<br>    \"n_estimators\": 495,<br>    \"learning_rate\": 0.014733625555018497,<br>    \"num_leaves\": 405,<br>    \"subsample\": 0.9544227123013,<br>    \"colsample_bytree\": 0.1769706869820883,<br>    \"min_data_in_leaf\": 76<br>  }<br>}",
          "{<br>  \"number\": 74,<br>  \"values\": [<br>    5.486335539351704,<br>    0.10210117352694334,<br>    0.8634382867498204<br>  ],<br>  \"params\": {<br>    \"n_estimators\": 489,<br>    \"learning_rate\": 0.04382747080492269,<br>    \"num_leaves\": 425,<br>    \"subsample\": 0.5362210363604827,<br>    \"colsample_bytree\": 0.5164152330722106,<br>    \"min_data_in_leaf\": 61<br>  }<br>}",
          "{<br>  \"number\": 75,<br>  \"values\": [<br>    5.528881360478722,<br>    0.1028771659841005,<br>    0.8617515866391834<br>  ],<br>  \"params\": {<br>    \"n_estimators\": 746,<br>    \"learning_rate\": 0.0605134614603551,<br>    \"num_leaves\": 543,<br>    \"subsample\": 0.5765072851122018,<br>    \"colsample_bytree\": 0.48448139369319687,<br>    \"min_data_in_leaf\": 45<br>  }<br>}",
          "{<br>  \"number\": 76,<br>  \"values\": [<br>    7.656747714224639,<br>    0.167658508078324,<br>    0.7478398444763059<br>  ],<br>  \"params\": {<br>    \"n_estimators\": 370,<br>    \"learning_rate\": 0.002832409013237938,<br>    \"num_leaves\": 138,<br>    \"subsample\": 0.8461197737984815,<br>    \"colsample_bytree\": 0.8319637461138666,<br>    \"min_data_in_leaf\": 9<br>  }<br>}",
          "{<br>  \"number\": 77,<br>  \"values\": [<br>    5.574551208363678,<br>    0.10072109326356907,<br>    0.8593829705900673<br>  ],<br>  \"params\": {<br>    \"n_estimators\": 366,<br>    \"learning_rate\": 0.08225955582757848,<br>    \"num_leaves\": 518,<br>    \"subsample\": 0.8701995465436503,<br>    \"colsample_bytree\": 0.7822261060402577,<br>    \"min_data_in_leaf\": 65<br>  }<br>}",
          "{<br>  \"number\": 78,<br>  \"values\": [<br>    7.149769197053826,<br>    0.15075686150437229,<br>    0.7799540285760624<br>  ],<br>  \"params\": {<br>    \"n_estimators\": 317,<br>    \"learning_rate\": 0.005663821622459173,<br>    \"num_leaves\": 78,<br>    \"subsample\": 0.6145182836032,<br>    \"colsample_bytree\": 0.48410869638956644,<br>    \"min_data_in_leaf\": 88<br>  }<br>}",
          "{<br>  \"number\": 79,<br>  \"values\": [<br>    5.442598792757806,<br>    0.10252898556560186,<br>    0.8661726301756776<br>  ],<br>  \"params\": {<br>    \"n_estimators\": 397,<br>    \"learning_rate\": 0.033179652643637085,<br>    \"num_leaves\": 924,<br>    \"subsample\": 0.22044258264044087,<br>    \"colsample_bytree\": 0.5180611475080314,<br>    \"min_data_in_leaf\": 76<br>  }<br>}",
          "{<br>  \"number\": 80,<br>  \"values\": [<br>    5.59817100990183,<br>    0.10827704241021663,<br>    0.8579533055295286<br>  ],<br>  \"params\": {<br>    \"n_estimators\": 623,<br>    \"learning_rate\": 0.053143956702901285,<br>    \"num_leaves\": 79,<br>    \"subsample\": 0.24966449849864458,<br>    \"colsample_bytree\": 0.3613426184400979,<br>    \"min_data_in_leaf\": 91<br>  }<br>}",
          "{<br>  \"number\": 81,<br>  \"values\": [<br>    5.573516819682187,<br>    0.10798465319748014,<br>    0.8600583388246138<br>  ],<br>  \"params\": {<br>    \"n_estimators\": 260,<br>    \"learning_rate\": 0.07826972347372234,<br>    \"num_leaves\": 245,<br>    \"subsample\": 0.13021788695093678,<br>    \"colsample_bytree\": 0.49232831929792586,<br>    \"min_data_in_leaf\": 37<br>  }<br>}",
          "{<br>  \"number\": 82,<br>  \"values\": [<br>    5.663723527914495,<br>    0.1073464785814898,<br>    0.8548708143629383<br>  ],<br>  \"params\": {<br>    \"n_estimators\": 871,<br>    \"learning_rate\": 0.04719955449570532,<br>    \"num_leaves\": 627,<br>    \"subsample\": 0.6145182836032,<br>    \"colsample_bytree\": 0.3515196709205503,<br>    \"min_data_in_leaf\": 93<br>  }<br>}",
          "{<br>  \"number\": 83,<br>  \"values\": [<br>    5.628413981940186,<br>    0.10746506057133032,<br>    0.8574370317536072<br>  ],<br>  \"params\": {<br>    \"n_estimators\": 853,<br>    \"learning_rate\": 0.053100302192890025,<br>    \"num_leaves\": 344,<br>    \"subsample\": 0.2714051131981699,<br>    \"colsample_bytree\": 0.5345565962834222,<br>    \"min_data_in_leaf\": 76<br>  }<br>}",
          "{<br>  \"number\": 84,<br>  \"values\": [<br>    7.132205569492728,<br>    0.15400821733478012,<br>    0.7807855209932498<br>  ],<br>  \"params\": {<br>    \"n_estimators\": 223,<br>    \"learning_rate\": 0.005347145240616026,<br>    \"num_leaves\": 245,<br>    \"subsample\": 0.8159009221046087,<br>    \"colsample_bytree\": 0.8538687412396276,<br>    \"min_data_in_leaf\": 75<br>  }<br>}",
          "{<br>  \"number\": 85,<br>  \"values\": [<br>    5.639908792134929,<br>    0.10523864443117588,<br>    0.8563980854416515<br>  ],<br>  \"params\": {<br>    \"n_estimators\": 461,<br>    \"learning_rate\": 0.09822347740582657,<br>    \"num_leaves\": 626,<br>    \"subsample\": 0.30793332840498655,<br>    \"colsample_bytree\": 0.618191041527123,<br>    \"min_data_in_leaf\": 49<br>  }<br>}",
          "{<br>  \"number\": 86,<br>  \"values\": [<br>    5.587330463981099,<br>    0.10671572655348323,<br>    0.8617117865686185<br>  ],<br>  \"params\": {<br>    \"n_estimators\": 431,<br>    \"learning_rate\": 0.00750194926349025,<br>    \"num_leaves\": 968,<br>    \"subsample\": 0.9790811822283269,<br>    \"colsample_bytree\": 0.5345565962834222,<br>    \"min_data_in_leaf\": 61<br>  }<br>}",
          "{<br>  \"number\": 87,<br>  \"values\": [<br>    6.664780694159054,<br>    0.13915181263511556,<br>    0.807370692140539<br>  ],<br>  \"params\": {<br>    \"n_estimators\": 871,<br>    \"learning_rate\": 0.0022007292360694767,<br>    \"num_leaves\": 812,<br>    \"subsample\": 0.7356570776318408,<br>    \"colsample_bytree\": 0.3515196709205503,<br>    \"min_data_in_leaf\": 71<br>  }<br>}",
          "{<br>  \"number\": 88,<br>  \"values\": [<br>    5.530753683362631,<br>    0.10603598046906373,<br>    0.8636906318987846<br>  ],<br>  \"params\": {<br>    \"n_estimators\": 397,<br>    \"learning_rate\": 0.033179652643637085,<br>    \"num_leaves\": 810,<br>    \"subsample\": 0.06790353694385791,<br>    \"colsample_bytree\": 0.6744511369425358,<br>    \"min_data_in_leaf\": 89<br>  }<br>}",
          "{<br>  \"number\": 89,<br>  \"values\": [<br>    7.032530679992223,<br>    0.151700248312109,<br>    0.786960475157808<br>  ],<br>  \"params\": {<br>    \"n_estimators\": 431,<br>    \"learning_rate\": 0.002832409013237938,<br>    \"num_leaves\": 282,<br>    \"subsample\": 0.534344306009554,<br>    \"colsample_bytree\": 0.7888809593980429,<br>    \"min_data_in_leaf\": 76<br>  }<br>}",
          "{<br>  \"number\": 90,<br>  \"values\": [<br>    6.825222485620088,<br>    0.14631699923356273,<br>    0.7976046634161544<br>  ],<br>  \"params\": {<br>    \"n_estimators\": 397,<br>    \"learning_rate\": 0.01369435302479543,<br>    \"num_leaves\": 518,<br>    \"subsample\": 0.2983541974733038,<br>    \"colsample_bytree\": 0.20363705989182668,<br>    \"min_data_in_leaf\": 21<br>  }<br>}",
          "{<br>  \"number\": 91,<br>  \"values\": [<br>    5.541949272358825,<br>    0.10211412905069348,<br>    0.8611661120143032<br>  ],<br>  \"params\": {<br>    \"n_estimators\": 746,<br>    \"learning_rate\": 0.0605134614603551,<br>    \"num_leaves\": 138,<br>    \"subsample\": 0.8461197737984815,<br>    \"colsample_bytree\": 0.48448139369319687,<br>    \"min_data_in_leaf\": 16<br>  }<br>}",
          "{<br>  \"number\": 92,<br>  \"values\": [<br>    10.014169526235124,<br>    0.2281306602727137,<br>    0.5706937039661931<br>  ],<br>  \"params\": {<br>    \"n_estimators\": 402,<br>    \"learning_rate\": 0.002052530578820541,<br>    \"num_leaves\": 102,<br>    \"subsample\": 0.6905070650002558,<br>    \"colsample_bytree\": 0.4269309277440881,<br>    \"min_data_in_leaf\": 12<br>  }<br>}",
          "{<br>  \"number\": 93,<br>  \"values\": [<br>    5.577489633166761,<br>    0.1021378793029005,<br>    0.8595356148858727<br>  ],<br>  \"params\": {<br>    \"n_estimators\": 623,<br>    \"learning_rate\": 0.053143956702901285,<br>    \"num_leaves\": 79,<br>    \"subsample\": 0.30793332840498655,<br>    \"colsample_bytree\": 0.9842726834421457,<br>    \"min_data_in_leaf\": 39<br>  }<br>}",
          "{<br>  \"number\": 94,<br>  \"values\": [<br>    5.362514018016252,<br>    0.09976637706797435,<br>    0.8714346600295173<br>  ],<br>  \"params\": {<br>    \"n_estimators\": 391,<br>    \"learning_rate\": 0.00818292337793142,<br>    \"num_leaves\": 192,<br>    \"subsample\": 0.6989929554692981,<br>    \"colsample_bytree\": 0.7019186409314944,<br>    \"min_data_in_leaf\": 57<br>  }<br>}",
          "{<br>  \"number\": 95,<br>  \"values\": [<br>    10.275937878121507,<br>    0.2385672237175398,<br>    0.5480447254165348<br>  ],<br>  \"params\": {<br>    \"n_estimators\": 288,<br>    \"learning_rate\": 0.0018882152845016928,<br>    \"num_leaves\": 506,<br>    \"subsample\": 0.13059296024011996,<br>    \"colsample_bytree\": 0.784997915569242,<br>    \"min_data_in_leaf\": 13<br>  }<br>}",
          "{<br>  \"number\": 96,<br>  \"values\": [<br>    5.482313725707744,<br>    0.10226050938066153,<br>    0.8637912219402388<br>  ],<br>  \"params\": {<br>    \"n_estimators\": 223,<br>    \"learning_rate\": 0.07129216173672907,<br>    \"num_leaves\": 245,<br>    \"subsample\": 0.5008192393014307,<br>    \"colsample_bytree\": 0.6718020153858275,<br>    \"min_data_in_leaf\": 77<br>  }<br>}",
          "{<br>  \"number\": 97,<br>  \"values\": [<br>    5.518810657253878,<br>    0.10067585493386817,<br>    0.8623979615233968<br>  ],<br>  \"params\": {<br>    \"n_estimators\": 905,<br>    \"learning_rate\": 0.033179652643637085,<br>    \"num_leaves\": 138,<br>    \"subsample\": 0.8461197737984815,<br>    \"colsample_bytree\": 0.8319637461138666,<br>    \"min_data_in_leaf\": 76<br>  }<br>}",
          "{<br>  \"number\": 98,<br>  \"values\": [<br>    5.57334196973651,<br>    0.10349584278830119,<br>    0.8597475254605109<br>  ],<br>  \"params\": {<br>    \"n_estimators\": 647,<br>    \"learning_rate\": 0.053143956702901285,<br>    \"num_leaves\": 131,<br>    \"subsample\": 0.24966449849864458,<br>    \"colsample_bytree\": 0.8170224378828415,<br>    \"min_data_in_leaf\": 42<br>  }<br>}",
          "{<br>  \"number\": 99,<br>  \"values\": [<br>    5.694265208871423,<br>    0.11028136214727721,<br>    0.8543251162417913<br>  ],<br>  \"params\": {<br>    \"n_estimators\": 571,<br>    \"learning_rate\": 0.08955482091502938,<br>    \"num_leaves\": 488,<br>    \"subsample\": 0.19852269725123134,<br>    \"colsample_bytree\": 0.4186715229020542,<br>    \"min_data_in_leaf\": 48<br>  }<br>}"
         ],
         "type": "scatter3d",
         "x": [
          5.502345571551044,
          5.455550061142984,
          6.325372889009847,
          5.446470184105683,
          13.795815890383702,
          5.740014826547375,
          5.705948918513381,
          9.63439328022358,
          5.451475836269548,
          11.1265008409593,
          6.363251252834074,
          5.5370980984727085,
          5.707426906225838,
          5.48052494605882,
          7.057012236839995,
          10.652028808693357,
          7.435073028390013,
          7.112611157247234,
          13.331242452006412,
          8.771192838091961,
          13.715950175778909,
          5.595861634292367,
          5.629696967304823,
          13.721671083286504,
          10.196715582305634,
          9.451095839839915,
          6.096073869078748,
          11.350901796890058,
          5.609751095145938,
          14.01938690463555,
          5.5894587830162425,
          7.404957492811363,
          5.4987002622777705,
          5.683764491982975,
          11.240340238413932,
          5.528881360478722,
          10.950468630543071,
          13.932377276741883,
          13.289382047200235,
          5.587840360869732,
          5.855908259567324,
          13.259250624801222,
          8.556314771393238,
          6.10245835093741,
          5.382911459426195,
          5.383291192622361,
          5.925167570696965,
          9.939854467835337,
          12.288321921701161,
          9.430812045785009,
          5.446470184105683,
          9.334674307847136,
          5.407558816729828,
          5.5334492557970405,
          5.930920875144482,
          5.510053810407085,
          5.500598635506434,
          5.572291470800707,
          5.662494898762294,
          10.355716520285899,
          9.696580616368957,
          5.5892387941044595,
          11.26926247217552,
          5.4166863799214395,
          5.570803892740653,
          5.593345592375127,
          6.120682955240021,
          13.721671083286504,
          5.383973345178025,
          5.5697176095169905,
          5.628778011153658,
          5.389090138818834,
          6.371748610323438,
          5.486335539351704,
          5.528881360478722,
          7.656747714224639,
          5.574551208363678,
          7.149769197053826,
          5.442598792757806,
          5.59817100990183,
          5.573516819682187,
          5.663723527914495,
          5.628413981940186,
          7.132205569492728,
          5.639908792134929,
          5.587330463981099,
          6.664780694159054,
          5.530753683362631,
          7.032530679992223,
          6.825222485620088,
          5.541949272358825,
          10.014169526235124,
          5.577489633166761,
          5.362514018016252,
          10.275937878121507,
          5.482313725707744,
          5.518810657253878,
          5.57334196973651,
          5.694265208871423
         ],
         "y": [
          0.09980235555547116,
          0.10248225083118452,
          0.1311379768214646,
          0.10066534817780677,
          0.3291651020378115,
          0.10847640950974191,
          0.1082766419983194,
          0.24367707862600296,
          0.10200779536591145,
          0.26049068616233095,
          0.12940601971186663,
          0.10696872204229306,
          0.11028920223510033,
          0.1009730285838398,
          0.15168759915441052,
          0.24902151303546494,
          0.15930811795930538,
          0.15019122881385866,
          0.3193286174749355,
          0.19860372008873453,
          0.3273415206681408,
          0.10134587227025098,
          0.10448561421225137,
          0.32702125579148633,
          0.234250285483647,
          0.24242984528536055,
          0.12311056645291418,
          0.26065994561980577,
          0.10657818201491016,
          0.33585090957923247,
          0.1058364317997162,
          0.15905206531720625,
          0.10094501604877926,
          0.10671792457501117,
          0.2621441117942499,
          0.1028771659841005,
          0.25695084189703904,
          0.3333471444795123,
          0.3146087995098355,
          0.10462431156805219,
          0.11656660955012636,
          0.31299303146122354,
          0.18706393914707328,
          0.12420543853428016,
          0.09996873252486613,
          0.09854643951779563,
          0.12176656143923972,
          0.226580927019975,
          0.2908546050694595,
          0.21643857647355605,
          0.10066534817780677,
          0.24338848228135124,
          0.09905526553102009,
          0.1026544300921078,
          0.11564193127431872,
          0.10258742885556535,
          0.10004973833105157,
          0.10060613760634347,
          0.11031961716504982,
          0.23389269610809277,
          0.22182650395730125,
          0.10701346165489445,
          0.26299062978955107,
          0.09881625656784938,
          0.10647041604606475,
          0.10233033151174653,
          0.12354535847745025,
          0.32702125579148633,
          0.09843554330840115,
          0.10206951742934747,
          0.10418052228447025,
          0.09913379425945434,
          0.1341091075303882,
          0.10210117352694334,
          0.1028771659841005,
          0.167658508078324,
          0.10072109326356907,
          0.15075686150437229,
          0.10252898556560186,
          0.10827704241021663,
          0.10798465319748014,
          0.1073464785814898,
          0.10746506057133032,
          0.15400821733478012,
          0.10523864443117588,
          0.10671572655348323,
          0.13915181263511556,
          0.10603598046906373,
          0.151700248312109,
          0.14631699923356273,
          0.10211412905069348,
          0.2281306602727137,
          0.1021378793029005,
          0.09976637706797435,
          0.2385672237175398,
          0.10226050938066153,
          0.10067585493386817,
          0.10349584278830119,
          0.11028136214727721
         ],
         "z": [
          0.8628989928576635,
          0.8650259725536795,
          0.8262784655539761,
          0.8656954548957312,
          0.18449253170908791,
          0.85177032641499,
          0.8525184193058986,
          0.6003425993249858,
          0.86574461464198,
          0.4702530976812457,
          0.8245059166241194,
          0.8621299524995706,
          0.8540094842077725,
          0.8639075292920649,
          0.7849998902930482,
          0.5143679047503888,
          0.7620680308478635,
          0.7823960845714957,
          0.23888984225669257,
          0.6703384093530202,
          0.1939562767731837,
          0.8582086546947668,
          0.8568214108762037,
          0.19327345919016586,
          0.5550533540730147,
          0.61499810156964,
          0.8374583470024669,
          0.4481913115272206,
          0.8610808719123639,
          0.15778960847418522,
          0.8594650487112746,
          0.7641421863529365,
          0.8631163238093373,
          0.8540085604068108,
          0.4586515283679423,
          0.8617515866391834,
          0.4870685678418452,
          0.16823923054136727,
          0.24341469365635712,
          0.8584397008105924,
          0.8478081047358232,
          0.24681766716625103,
          0.6862552795660752,
          0.8383817565647153,
          0.869282888270714,
          0.8687313452788337,
          0.8417607144559248,
          0.5770735959192398,
          0.3535881517322375,
          0.6189371536538637,
          0.8656954548957312,
          0.6233284633828223,
          0.8671548781546967,
          0.8616044413918924,
          0.8457843385097175,
          0.8622750476596954,
          0.8631038192915277,
          0.8591520618144519,
          0.854560541949813,
          0.5407760264589803,
          0.5975879130851945,
          0.8583869457133888,
          0.4559115556076286,
          0.8666345343498383,
          0.8626869824795328,
          0.8586916299738176,
          0.8360799401175679,
          0.19327345919016586,
          0.8688391131700861,
          0.8599797874491946,
          0.8575123527784637,
          0.8684212436753113,
          0.8217656239187304,
          0.8634382867498204,
          0.8617515866391834,
          0.7478398444763059,
          0.8593829705900673,
          0.7799540285760624,
          0.8661726301756776,
          0.8579533055295286,
          0.8600583388246138,
          0.8548708143629383,
          0.8574370317536072,
          0.7807855209932498,
          0.8563980854416515,
          0.8617117865686185,
          0.807370692140539,
          0.8636906318987846,
          0.786960475157808,
          0.7976046634161544,
          0.8611661120143032,
          0.5706937039661931,
          0.8595356148858727,
          0.8714346600295173,
          0.5480447254165348,
          0.8637912219402388,
          0.8623979615233968,
          0.8597475254605109,
          0.8543251162417913
         ]
        },
        {
         "hovertemplate": "%{text}<extra>Best Trial</extra>",
         "marker": {
          "color": [
           24
          ],
          "colorbar": {
           "title": {
            "text": "Best Trial"
           },
           "x": 1.1,
           "xpad": 40
          },
          "colorscale": [
           [
            0,
            "rgb(255,245,240)"
           ],
           [
            0.125,
            "rgb(254,224,210)"
           ],
           [
            0.25,
            "rgb(252,187,161)"
           ],
           [
            0.375,
            "rgb(252,146,114)"
           ],
           [
            0.5,
            "rgb(251,106,74)"
           ],
           [
            0.625,
            "rgb(239,59,44)"
           ],
           [
            0.75,
            "rgb(203,24,29)"
           ],
           [
            0.875,
            "rgb(165,15,21)"
           ],
           [
            1,
            "rgb(103,0,13)"
           ]
          ],
          "line": {
           "color": "Grey",
           "width": 0.5
          }
         },
         "mode": "markers",
         "showlegend": false,
         "text": [
          "{<br>  \"number\": 24,<br>  \"values\": [<br>    5.306669662970827,<br>    0.09615054001575007,<br>    0.8735736532486407<br>  ],<br>  \"params\": {<br>    \"n_estimators\": 318,<br>    \"learning_rate\": 0.012525877577601145,<br>    \"num_leaves\": 114,<br>    \"subsample\": 0.3488305512774496,<br>    \"colsample_bytree\": 0.9959462337762435,<br>    \"min_data_in_leaf\": 89<br>  }<br>}"
         ],
         "type": "scatter3d",
         "x": [
          5.306669662970827
         ],
         "y": [
          0.09615054001575007
         ],
         "z": [
          0.8735736532486407
         ]
        }
       ],
       "layout": {
        "scene": {
         "xaxis": {
          "title": {
           "text": "RMSE"
          }
         },
         "yaxis": {
          "title": {
           "text": "MAPE"
          }
         },
         "zaxis": {
          "title": {
           "text": "R2"
          }
         }
        },
        "template": {
         "data": {
          "bar": [
           {
            "error_x": {
             "color": "#2a3f5f"
            },
            "error_y": {
             "color": "#2a3f5f"
            },
            "marker": {
             "line": {
              "color": "#E5ECF6",
              "width": 0.5
             },
             "pattern": {
              "fillmode": "overlay",
              "size": 10,
              "solidity": 0.2
             }
            },
            "type": "bar"
           }
          ],
          "barpolar": [
           {
            "marker": {
             "line": {
              "color": "#E5ECF6",
              "width": 0.5
             },
             "pattern": {
              "fillmode": "overlay",
              "size": 10,
              "solidity": 0.2
             }
            },
            "type": "barpolar"
           }
          ],
          "carpet": [
           {
            "aaxis": {
             "endlinecolor": "#2a3f5f",
             "gridcolor": "white",
             "linecolor": "white",
             "minorgridcolor": "white",
             "startlinecolor": "#2a3f5f"
            },
            "baxis": {
             "endlinecolor": "#2a3f5f",
             "gridcolor": "white",
             "linecolor": "white",
             "minorgridcolor": "white",
             "startlinecolor": "#2a3f5f"
            },
            "type": "carpet"
           }
          ],
          "choropleth": [
           {
            "colorbar": {
             "outlinewidth": 0,
             "ticks": ""
            },
            "type": "choropleth"
           }
          ],
          "contour": [
           {
            "colorbar": {
             "outlinewidth": 0,
             "ticks": ""
            },
            "colorscale": [
             [
              0,
              "#0d0887"
             ],
             [
              0.1111111111111111,
              "#46039f"
             ],
             [
              0.2222222222222222,
              "#7201a8"
             ],
             [
              0.3333333333333333,
              "#9c179e"
             ],
             [
              0.4444444444444444,
              "#bd3786"
             ],
             [
              0.5555555555555556,
              "#d8576b"
             ],
             [
              0.6666666666666666,
              "#ed7953"
             ],
             [
              0.7777777777777778,
              "#fb9f3a"
             ],
             [
              0.8888888888888888,
              "#fdca26"
             ],
             [
              1,
              "#f0f921"
             ]
            ],
            "type": "contour"
           }
          ],
          "contourcarpet": [
           {
            "colorbar": {
             "outlinewidth": 0,
             "ticks": ""
            },
            "type": "contourcarpet"
           }
          ],
          "heatmap": [
           {
            "colorbar": {
             "outlinewidth": 0,
             "ticks": ""
            },
            "colorscale": [
             [
              0,
              "#0d0887"
             ],
             [
              0.1111111111111111,
              "#46039f"
             ],
             [
              0.2222222222222222,
              "#7201a8"
             ],
             [
              0.3333333333333333,
              "#9c179e"
             ],
             [
              0.4444444444444444,
              "#bd3786"
             ],
             [
              0.5555555555555556,
              "#d8576b"
             ],
             [
              0.6666666666666666,
              "#ed7953"
             ],
             [
              0.7777777777777778,
              "#fb9f3a"
             ],
             [
              0.8888888888888888,
              "#fdca26"
             ],
             [
              1,
              "#f0f921"
             ]
            ],
            "type": "heatmap"
           }
          ],
          "heatmapgl": [
           {
            "colorbar": {
             "outlinewidth": 0,
             "ticks": ""
            },
            "colorscale": [
             [
              0,
              "#0d0887"
             ],
             [
              0.1111111111111111,
              "#46039f"
             ],
             [
              0.2222222222222222,
              "#7201a8"
             ],
             [
              0.3333333333333333,
              "#9c179e"
             ],
             [
              0.4444444444444444,
              "#bd3786"
             ],
             [
              0.5555555555555556,
              "#d8576b"
             ],
             [
              0.6666666666666666,
              "#ed7953"
             ],
             [
              0.7777777777777778,
              "#fb9f3a"
             ],
             [
              0.8888888888888888,
              "#fdca26"
             ],
             [
              1,
              "#f0f921"
             ]
            ],
            "type": "heatmapgl"
           }
          ],
          "histogram": [
           {
            "marker": {
             "pattern": {
              "fillmode": "overlay",
              "size": 10,
              "solidity": 0.2
             }
            },
            "type": "histogram"
           }
          ],
          "histogram2d": [
           {
            "colorbar": {
             "outlinewidth": 0,
             "ticks": ""
            },
            "colorscale": [
             [
              0,
              "#0d0887"
             ],
             [
              0.1111111111111111,
              "#46039f"
             ],
             [
              0.2222222222222222,
              "#7201a8"
             ],
             [
              0.3333333333333333,
              "#9c179e"
             ],
             [
              0.4444444444444444,
              "#bd3786"
             ],
             [
              0.5555555555555556,
              "#d8576b"
             ],
             [
              0.6666666666666666,
              "#ed7953"
             ],
             [
              0.7777777777777778,
              "#fb9f3a"
             ],
             [
              0.8888888888888888,
              "#fdca26"
             ],
             [
              1,
              "#f0f921"
             ]
            ],
            "type": "histogram2d"
           }
          ],
          "histogram2dcontour": [
           {
            "colorbar": {
             "outlinewidth": 0,
             "ticks": ""
            },
            "colorscale": [
             [
              0,
              "#0d0887"
             ],
             [
              0.1111111111111111,
              "#46039f"
             ],
             [
              0.2222222222222222,
              "#7201a8"
             ],
             [
              0.3333333333333333,
              "#9c179e"
             ],
             [
              0.4444444444444444,
              "#bd3786"
             ],
             [
              0.5555555555555556,
              "#d8576b"
             ],
             [
              0.6666666666666666,
              "#ed7953"
             ],
             [
              0.7777777777777778,
              "#fb9f3a"
             ],
             [
              0.8888888888888888,
              "#fdca26"
             ],
             [
              1,
              "#f0f921"
             ]
            ],
            "type": "histogram2dcontour"
           }
          ],
          "mesh3d": [
           {
            "colorbar": {
             "outlinewidth": 0,
             "ticks": ""
            },
            "type": "mesh3d"
           }
          ],
          "parcoords": [
           {
            "line": {
             "colorbar": {
              "outlinewidth": 0,
              "ticks": ""
             }
            },
            "type": "parcoords"
           }
          ],
          "pie": [
           {
            "automargin": true,
            "type": "pie"
           }
          ],
          "scatter": [
           {
            "fillpattern": {
             "fillmode": "overlay",
             "size": 10,
             "solidity": 0.2
            },
            "type": "scatter"
           }
          ],
          "scatter3d": [
           {
            "line": {
             "colorbar": {
              "outlinewidth": 0,
              "ticks": ""
             }
            },
            "marker": {
             "colorbar": {
              "outlinewidth": 0,
              "ticks": ""
             }
            },
            "type": "scatter3d"
           }
          ],
          "scattercarpet": [
           {
            "marker": {
             "colorbar": {
              "outlinewidth": 0,
              "ticks": ""
             }
            },
            "type": "scattercarpet"
           }
          ],
          "scattergeo": [
           {
            "marker": {
             "colorbar": {
              "outlinewidth": 0,
              "ticks": ""
             }
            },
            "type": "scattergeo"
           }
          ],
          "scattergl": [
           {
            "marker": {
             "colorbar": {
              "outlinewidth": 0,
              "ticks": ""
             }
            },
            "type": "scattergl"
           }
          ],
          "scattermapbox": [
           {
            "marker": {
             "colorbar": {
              "outlinewidth": 0,
              "ticks": ""
             }
            },
            "type": "scattermapbox"
           }
          ],
          "scatterpolar": [
           {
            "marker": {
             "colorbar": {
              "outlinewidth": 0,
              "ticks": ""
             }
            },
            "type": "scatterpolar"
           }
          ],
          "scatterpolargl": [
           {
            "marker": {
             "colorbar": {
              "outlinewidth": 0,
              "ticks": ""
             }
            },
            "type": "scatterpolargl"
           }
          ],
          "scatterternary": [
           {
            "marker": {
             "colorbar": {
              "outlinewidth": 0,
              "ticks": ""
             }
            },
            "type": "scatterternary"
           }
          ],
          "surface": [
           {
            "colorbar": {
             "outlinewidth": 0,
             "ticks": ""
            },
            "colorscale": [
             [
              0,
              "#0d0887"
             ],
             [
              0.1111111111111111,
              "#46039f"
             ],
             [
              0.2222222222222222,
              "#7201a8"
             ],
             [
              0.3333333333333333,
              "#9c179e"
             ],
             [
              0.4444444444444444,
              "#bd3786"
             ],
             [
              0.5555555555555556,
              "#d8576b"
             ],
             [
              0.6666666666666666,
              "#ed7953"
             ],
             [
              0.7777777777777778,
              "#fb9f3a"
             ],
             [
              0.8888888888888888,
              "#fdca26"
             ],
             [
              1,
              "#f0f921"
             ]
            ],
            "type": "surface"
           }
          ],
          "table": [
           {
            "cells": {
             "fill": {
              "color": "#EBF0F8"
             },
             "line": {
              "color": "white"
             }
            },
            "header": {
             "fill": {
              "color": "#C8D4E3"
             },
             "line": {
              "color": "white"
             }
            },
            "type": "table"
           }
          ]
         },
         "layout": {
          "annotationdefaults": {
           "arrowcolor": "#2a3f5f",
           "arrowhead": 0,
           "arrowwidth": 1
          },
          "autotypenumbers": "strict",
          "coloraxis": {
           "colorbar": {
            "outlinewidth": 0,
            "ticks": ""
           }
          },
          "colorscale": {
           "diverging": [
            [
             0,
             "#8e0152"
            ],
            [
             0.1,
             "#c51b7d"
            ],
            [
             0.2,
             "#de77ae"
            ],
            [
             0.3,
             "#f1b6da"
            ],
            [
             0.4,
             "#fde0ef"
            ],
            [
             0.5,
             "#f7f7f7"
            ],
            [
             0.6,
             "#e6f5d0"
            ],
            [
             0.7,
             "#b8e186"
            ],
            [
             0.8,
             "#7fbc41"
            ],
            [
             0.9,
             "#4d9221"
            ],
            [
             1,
             "#276419"
            ]
           ],
           "sequential": [
            [
             0,
             "#0d0887"
            ],
            [
             0.1111111111111111,
             "#46039f"
            ],
            [
             0.2222222222222222,
             "#7201a8"
            ],
            [
             0.3333333333333333,
             "#9c179e"
            ],
            [
             0.4444444444444444,
             "#bd3786"
            ],
            [
             0.5555555555555556,
             "#d8576b"
            ],
            [
             0.6666666666666666,
             "#ed7953"
            ],
            [
             0.7777777777777778,
             "#fb9f3a"
            ],
            [
             0.8888888888888888,
             "#fdca26"
            ],
            [
             1,
             "#f0f921"
            ]
           ],
           "sequentialminus": [
            [
             0,
             "#0d0887"
            ],
            [
             0.1111111111111111,
             "#46039f"
            ],
            [
             0.2222222222222222,
             "#7201a8"
            ],
            [
             0.3333333333333333,
             "#9c179e"
            ],
            [
             0.4444444444444444,
             "#bd3786"
            ],
            [
             0.5555555555555556,
             "#d8576b"
            ],
            [
             0.6666666666666666,
             "#ed7953"
            ],
            [
             0.7777777777777778,
             "#fb9f3a"
            ],
            [
             0.8888888888888888,
             "#fdca26"
            ],
            [
             1,
             "#f0f921"
            ]
           ]
          },
          "colorway": [
           "#636efa",
           "#EF553B",
           "#00cc96",
           "#ab63fa",
           "#FFA15A",
           "#19d3f3",
           "#FF6692",
           "#B6E880",
           "#FF97FF",
           "#FECB52"
          ],
          "font": {
           "color": "#2a3f5f"
          },
          "geo": {
           "bgcolor": "white",
           "lakecolor": "white",
           "landcolor": "#E5ECF6",
           "showlakes": true,
           "showland": true,
           "subunitcolor": "white"
          },
          "hoverlabel": {
           "align": "left"
          },
          "hovermode": "closest",
          "mapbox": {
           "style": "light"
          },
          "paper_bgcolor": "white",
          "plot_bgcolor": "#E5ECF6",
          "polar": {
           "angularaxis": {
            "gridcolor": "white",
            "linecolor": "white",
            "ticks": ""
           },
           "bgcolor": "#E5ECF6",
           "radialaxis": {
            "gridcolor": "white",
            "linecolor": "white",
            "ticks": ""
           }
          },
          "scene": {
           "xaxis": {
            "backgroundcolor": "#E5ECF6",
            "gridcolor": "white",
            "gridwidth": 2,
            "linecolor": "white",
            "showbackground": true,
            "ticks": "",
            "zerolinecolor": "white"
           },
           "yaxis": {
            "backgroundcolor": "#E5ECF6",
            "gridcolor": "white",
            "gridwidth": 2,
            "linecolor": "white",
            "showbackground": true,
            "ticks": "",
            "zerolinecolor": "white"
           },
           "zaxis": {
            "backgroundcolor": "#E5ECF6",
            "gridcolor": "white",
            "gridwidth": 2,
            "linecolor": "white",
            "showbackground": true,
            "ticks": "",
            "zerolinecolor": "white"
           }
          },
          "shapedefaults": {
           "line": {
            "color": "#2a3f5f"
           }
          },
          "ternary": {
           "aaxis": {
            "gridcolor": "white",
            "linecolor": "white",
            "ticks": ""
           },
           "baxis": {
            "gridcolor": "white",
            "linecolor": "white",
            "ticks": ""
           },
           "bgcolor": "#E5ECF6",
           "caxis": {
            "gridcolor": "white",
            "linecolor": "white",
            "ticks": ""
           }
          },
          "title": {
           "x": 0.05
          },
          "xaxis": {
           "automargin": true,
           "gridcolor": "white",
           "linecolor": "white",
           "ticks": "",
           "title": {
            "standoff": 15
           },
           "zerolinecolor": "white",
           "zerolinewidth": 2
          },
          "yaxis": {
           "automargin": true,
           "gridcolor": "white",
           "linecolor": "white",
           "ticks": "",
           "title": {
            "standoff": 15
           },
           "zerolinecolor": "white",
           "zerolinewidth": 2
          }
         }
        },
        "title": {
         "text": "Pareto-front Plot"
        }
       }
      }
     },
     "metadata": {},
     "output_type": "display_data"
    }
   ],
   "source": [
    "optuna.visualization.plot_pareto_front(study, target_names=[\"RMSE\", \"MAPE\", \"R2\"])"
   ]
  },
  {
   "cell_type": "code",
   "execution_count": 62,
   "metadata": {},
   "outputs": [
    {
     "name": "stdout",
     "output_type": "stream",
     "text": [
      "Best hyperparameters: {'n_estimators': 318, 'learning_rate': 0.012525877577601145, 'num_leaves': 114, 'subsample': 0.3488305512774496, 'colsample_bytree': 0.9959462337762435, 'min_data_in_leaf': 89}\n",
      "Best [RMSE, MAPE, R2]: [5.306669662970827, 0.09615054001575007, 0.8735736532486407]\n"
     ]
    }
   ],
   "source": [
    "tgt_stat = 0 # [RMSE, MAPE, R2]\n",
    "trial = max(study.best_trials, key=lambda t: t.values[tgt_stat])\n",
    "print('Best hyperparameters:', trial.params)\n",
    "print('Best [RMSE, MAPE, R2]:', trial.values)"
   ]
  },
  {
   "cell_type": "code",
   "execution_count": 63,
   "metadata": {},
   "outputs": [
    {
     "data": {
      "text/html": [
       "<style>#sk-container-id-3 {color: black;}#sk-container-id-3 pre{padding: 0;}#sk-container-id-3 div.sk-toggleable {background-color: white;}#sk-container-id-3 label.sk-toggleable__label {cursor: pointer;display: block;width: 100%;margin-bottom: 0;padding: 0.3em;box-sizing: border-box;text-align: center;}#sk-container-id-3 label.sk-toggleable__label-arrow:before {content: \"▸\";float: left;margin-right: 0.25em;color: #696969;}#sk-container-id-3 label.sk-toggleable__label-arrow:hover:before {color: black;}#sk-container-id-3 div.sk-estimator:hover label.sk-toggleable__label-arrow:before {color: black;}#sk-container-id-3 div.sk-toggleable__content {max-height: 0;max-width: 0;overflow: hidden;text-align: left;background-color: #f0f8ff;}#sk-container-id-3 div.sk-toggleable__content pre {margin: 0.2em;color: black;border-radius: 0.25em;background-color: #f0f8ff;}#sk-container-id-3 input.sk-toggleable__control:checked~div.sk-toggleable__content {max-height: 200px;max-width: 100%;overflow: auto;}#sk-container-id-3 input.sk-toggleable__control:checked~label.sk-toggleable__label-arrow:before {content: \"▾\";}#sk-container-id-3 div.sk-estimator input.sk-toggleable__control:checked~label.sk-toggleable__label {background-color: #d4ebff;}#sk-container-id-3 div.sk-label input.sk-toggleable__control:checked~label.sk-toggleable__label {background-color: #d4ebff;}#sk-container-id-3 input.sk-hidden--visually {border: 0;clip: rect(1px 1px 1px 1px);clip: rect(1px, 1px, 1px, 1px);height: 1px;margin: -1px;overflow: hidden;padding: 0;position: absolute;width: 1px;}#sk-container-id-3 div.sk-estimator {font-family: monospace;background-color: #f0f8ff;border: 1px dotted black;border-radius: 0.25em;box-sizing: border-box;margin-bottom: 0.5em;}#sk-container-id-3 div.sk-estimator:hover {background-color: #d4ebff;}#sk-container-id-3 div.sk-parallel-item::after {content: \"\";width: 100%;border-bottom: 1px solid gray;flex-grow: 1;}#sk-container-id-3 div.sk-label:hover label.sk-toggleable__label {background-color: #d4ebff;}#sk-container-id-3 div.sk-serial::before {content: \"\";position: absolute;border-left: 1px solid gray;box-sizing: border-box;top: 0;bottom: 0;left: 50%;z-index: 0;}#sk-container-id-3 div.sk-serial {display: flex;flex-direction: column;align-items: center;background-color: white;padding-right: 0.2em;padding-left: 0.2em;position: relative;}#sk-container-id-3 div.sk-item {position: relative;z-index: 1;}#sk-container-id-3 div.sk-parallel {display: flex;align-items: stretch;justify-content: center;background-color: white;position: relative;}#sk-container-id-3 div.sk-item::before, #sk-container-id-3 div.sk-parallel-item::before {content: \"\";position: absolute;border-left: 1px solid gray;box-sizing: border-box;top: 0;bottom: 0;left: 50%;z-index: -1;}#sk-container-id-3 div.sk-parallel-item {display: flex;flex-direction: column;z-index: 1;position: relative;background-color: white;}#sk-container-id-3 div.sk-parallel-item:first-child::after {align-self: flex-end;width: 50%;}#sk-container-id-3 div.sk-parallel-item:last-child::after {align-self: flex-start;width: 50%;}#sk-container-id-3 div.sk-parallel-item:only-child::after {width: 0;}#sk-container-id-3 div.sk-dashed-wrapped {border: 1px dashed gray;margin: 0 0.4em 0.5em 0.4em;box-sizing: border-box;padding-bottom: 0.4em;background-color: white;}#sk-container-id-3 div.sk-label label {font-family: monospace;font-weight: bold;display: inline-block;line-height: 1.2em;}#sk-container-id-3 div.sk-label-container {text-align: center;}#sk-container-id-3 div.sk-container {/* jupyter's `normalize.less` sets `[hidden] { display: none; }` but bootstrap.min.css set `[hidden] { display: none !important; }` so we also need the `!important` here to be able to override the default hidden behavior on the sphinx rendered scikit-learn.org. See: https://github.com/scikit-learn/scikit-learn/issues/21755 */display: inline-block !important;position: relative;}#sk-container-id-3 div.sk-text-repr-fallback {display: none;}</style><div id=\"sk-container-id-3\" class=\"sk-top-container\"><div class=\"sk-text-repr-fallback\"><pre>LGBMRegressor(bagging_freq=1, colsample_bytree=0.9959462337762435,\n",
       "              learning_rate=0.012525877577601145, metric=&#x27;rmse&#x27;,\n",
       "              min_data_in_leaf=89, n_estimators=318, num_leaves=114,\n",
       "              objective=&#x27;regression&#x27;, subsample=0.3488305512774496,\n",
       "              verbosity=-1)</pre><b>In a Jupyter environment, please rerun this cell to show the HTML representation or trust the notebook. <br />On GitHub, the HTML representation is unable to render, please try loading this page with nbviewer.org.</b></div><div class=\"sk-container\" hidden><div class=\"sk-item\"><div class=\"sk-estimator sk-toggleable\"><input class=\"sk-toggleable__control sk-hidden--visually\" id=\"sk-estimator-id-3\" type=\"checkbox\" checked><label for=\"sk-estimator-id-3\" class=\"sk-toggleable__label sk-toggleable__label-arrow\">LGBMRegressor</label><div class=\"sk-toggleable__content\"><pre>LGBMRegressor(bagging_freq=1, colsample_bytree=0.9959462337762435,\n",
       "              learning_rate=0.012525877577601145, metric=&#x27;rmse&#x27;,\n",
       "              min_data_in_leaf=89, n_estimators=318, num_leaves=114,\n",
       "              objective=&#x27;regression&#x27;, subsample=0.3488305512774496,\n",
       "              verbosity=-1)</pre></div></div></div></div></div>"
      ],
      "text/plain": [
       "LGBMRegressor(bagging_freq=1, colsample_bytree=0.9959462337762435,\n",
       "              learning_rate=0.012525877577601145, metric='rmse',\n",
       "              min_data_in_leaf=89, n_estimators=318, num_leaves=114,\n",
       "              objective='regression', subsample=0.3488305512774496,\n",
       "              verbosity=-1)"
      ]
     },
     "execution_count": 63,
     "metadata": {},
     "output_type": "execute_result"
    }
   ],
   "source": [
    "import lightgbm as lgb\n",
    "\n",
    "params = {\"objective\": \"regression\", \"metric\": \"rmse\",\n",
    "        \"n_estimators\": trial.params['n_estimators'],\n",
    "        \"verbosity\": -1, \"bagging_freq\": 1,\n",
    "        \"learning_rate\": trial.params['learning_rate'],\n",
    "        \"num_leaves\": trial.params['num_leaves'],\n",
    "        \"subsample\": trial.params['subsample'],\n",
    "        \"colsample_bytree\": trial.params['colsample_bytree'],\n",
    "        \"min_data_in_leaf\": trial.params['min_data_in_leaf']}\n",
    "\n",
    "model = lgb.LGBMRegressor(**params)\n",
    "model.fit(X, np.squeeze(y))"
   ]
  },
  {
   "cell_type": "code",
   "execution_count": 64,
   "metadata": {},
   "outputs": [],
   "source": [
    "model.booster_.save_model(f\"model_weights-{place}.txt\");"
   ]
  },
  {
   "cell_type": "code",
   "execution_count": 65,
   "metadata": {},
   "outputs": [
    {
     "data": {
      "text/html": [
       "<div>\n",
       "<style scoped>\n",
       "    .dataframe tbody tr th:only-of-type {\n",
       "        vertical-align: middle;\n",
       "    }\n",
       "\n",
       "    .dataframe tbody tr th {\n",
       "        vertical-align: top;\n",
       "    }\n",
       "\n",
       "    .dataframe thead th {\n",
       "        text-align: right;\n",
       "    }\n",
       "</style>\n",
       "<table border=\"1\" class=\"dataframe\">\n",
       "  <thead>\n",
       "    <tr style=\"text-align: right;\">\n",
       "      <th></th>\n",
       "      <th>cons</th>\n",
       "    </tr>\n",
       "  </thead>\n",
       "  <tbody>\n",
       "    <tr>\n",
       "      <th>2023-04-27 01:00:00</th>\n",
       "      <td>27.535782</td>\n",
       "    </tr>\n",
       "    <tr>\n",
       "      <th>2023-04-27 02:00:00</th>\n",
       "      <td>27.507529</td>\n",
       "    </tr>\n",
       "    <tr>\n",
       "      <th>2023-04-27 03:00:00</th>\n",
       "      <td>27.490708</td>\n",
       "    </tr>\n",
       "    <tr>\n",
       "      <th>2023-04-27 04:00:00</th>\n",
       "      <td>27.488944</td>\n",
       "    </tr>\n",
       "    <tr>\n",
       "      <th>2023-04-27 05:00:00</th>\n",
       "      <td>27.553155</td>\n",
       "    </tr>\n",
       "    <tr>\n",
       "      <th>...</th>\n",
       "      <td>...</td>\n",
       "    </tr>\n",
       "    <tr>\n",
       "      <th>2023-06-25 20:00:00</th>\n",
       "      <td>25.513335</td>\n",
       "    </tr>\n",
       "    <tr>\n",
       "      <th>2023-06-25 21:00:00</th>\n",
       "      <td>25.527072</td>\n",
       "    </tr>\n",
       "    <tr>\n",
       "      <th>2023-06-25 22:00:00</th>\n",
       "      <td>25.276188</td>\n",
       "    </tr>\n",
       "    <tr>\n",
       "      <th>2023-06-25 23:00:00</th>\n",
       "      <td>25.248207</td>\n",
       "    </tr>\n",
       "    <tr>\n",
       "      <th>2023-06-26 00:00:00</th>\n",
       "      <td>23.887635</td>\n",
       "    </tr>\n",
       "  </tbody>\n",
       "</table>\n",
       "<p>1440 rows × 1 columns</p>\n",
       "</div>"
      ],
      "text/plain": [
       "                          cons\n",
       "2023-04-27 01:00:00  27.535782\n",
       "2023-04-27 02:00:00  27.507529\n",
       "2023-04-27 03:00:00  27.490708\n",
       "2023-04-27 04:00:00  27.488944\n",
       "2023-04-27 05:00:00  27.553155\n",
       "...                        ...\n",
       "2023-06-25 20:00:00  25.513335\n",
       "2023-06-25 21:00:00  25.527072\n",
       "2023-06-25 22:00:00  25.276188\n",
       "2023-06-25 23:00:00  25.248207\n",
       "2023-06-26 00:00:00  23.887635\n",
       "\n",
       "[1440 rows x 1 columns]"
      ]
     },
     "execution_count": 65,
     "metadata": {},
     "output_type": "execute_result"
    }
   ],
   "source": [
    "preds = pd.DataFrame(index=df_pred.index, data=model.predict(df_pred.values), columns=[\"cons\"])\n",
    "preds"
   ]
  },
  {
   "cell_type": "code",
   "execution_count": 66,
   "metadata": {},
   "outputs": [
    {
     "data": {
      "image/png": "[encoded data removed]",
      "text/plain": [
       "<Figure size 640x480 with 1 Axes>"
      ]
     },
     "metadata": {},
     "output_type": "display_data"
    },
    {
     "data": {
      "image/png": "[encoded data removed]",
      "text/plain": [
       "<Figure size 640x480 with 1 Axes>"
      ]
     },
     "metadata": {},
     "output_type": "display_data"
    },
    {
     "data": {
      "image/png": "[encoded data removed]",
      "text/plain": [
       "<Figure size 640x480 with 1 Axes>"
      ]
     },
     "metadata": {},
     "output_type": "display_data"
    },
    {
     "data": {
      "image/png": "[encoded data removed]",
      "text/plain": [
       "<Figure size 640x480 with 1 Axes>"
      ]
     },
     "metadata": {},
     "output_type": "display_data"
    },
    {
     "data": {
      "image/png": "[encoded data removed]",
      "text/plain": [
       "<Figure size 640x480 with 1 Axes>"
      ]
     },
     "metadata": {},
     "output_type": "display_data"
    }
   ],
   "source": [
    "%matplotlib inline\n",
    "preds.plot();"
   ]
  },
  {
   "cell_type": "code",
   "execution_count": 67,
   "metadata": {},
   "outputs": [
    {
     "name": "stdout",
     "output_type": "stream",
     "text": [
      "Baseline RMSE: 5.934\n",
      "Baseline MAPE: 0.0782\n",
      "Baseline R2: 0.8523986064667833\n",
      "RMSE: 3.795291292562366\n",
      "MAPE: 0.06834151302142687\n",
      "MAPE: 0.9396100418466414\n"
     ]
    },
    {
     "data": {
      "application/vnd.jupyter.widget-view+json": {
       "model_id": "b900fbdc6ce6448a893dda3b4a02a035",
       "version_major": 2,
       "version_minor": 0
      },
      "image/png": "[encoded data removed]",
      "text/html": [
       "\n",
       "            <div style=\"display: inline-block;\">\n",
       "                <div class=\"jupyter-widgets widget-label\" style=\"text-align: center;\">\n",
       "                    Figure\n",
       "                </div>\n",
       "                <img src='data:image/png;base64,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' width=640.0/>\n",
       "            </div>\n",
       "        "
      ],
      "text/plain": [
       "Canvas(toolbar=Toolbar(toolitems=[('Home', 'Reset original view', 'home', 'home'), ('Back', 'Back to previous …"
      ]
     },
     "metadata": {},
     "output_type": "display_data"
    }
   ],
   "source": [
    "%matplotlib widget\n",
    "inpreds = pd.DataFrame(index=df_train.index, data=model.predict(X), columns=[\"pred\"])\n",
    "inpreds[\"truth\"] = df_train[\"cons\"]\n",
    "inpreds[[\"pred\", \"truth\"]].plot()\n",
    "print(\"Baseline RMSE:\", mean_squared_error(inpreds[\"truth\"].iloc[:-1], inpreds[\"truth\"].shift(-1).iloc[:-1], squared=False))\n",
    "print(\"Baseline MAPE:\", mean_absolute_percentage_error(inpreds[\"truth\"].iloc[:-1], inpreds[\"truth\"].shift(-1).iloc[:-1]))\n",
    "print(\"Baseline R2:\",r2_score(inpreds[\"truth\"].iloc[:-1], inpreds[\"truth\"].shift(-1).iloc[:-1]))\n",
    "print(\"RMSE:\", mean_squared_error(inpreds[\"truth\"], inpreds[\"pred\"], squared=False))\n",
    "print(\"MAPE:\", mean_absolute_percentage_error(inpreds[\"truth\"], inpreds[\"pred\"]))\n",
    "print(\"R2:\", r2_score(inpreds[\"truth\"], inpreds[\"pred\"]))"
   ]
  },
  {
   "cell_type": "code",
   "execution_count": 30,
   "metadata": {},
   "outputs": [
    {
     "data": {
      "text/plain": [
       "<Axes: >"
      ]
     },
     "execution_count": 30,
     "metadata": {},
     "output_type": "execute_result"
    }
   ],
   "source": [
    "%matplotlib inline\n",
    "inpreds[\"dif\"] = inpreds[\"pred\"] - inpreds[\"truth\"]\n",
    "inpreds[\"dif\"].plot()"
   ]
  }
 ],
 "metadata": {
  "kernelspec": {
   "display_name": "env",
   "language": "python",
   "name": "python3"
  },
  "language_info": {
   "codemirror_mode": {
    "name": "ipython",
    "version": 3
   },
   "file_extension": ".py",
   "mimetype": "text/x-python",
   "name": "python",
   "nbconvert_exporter": "python",
   "pygments_lexer": "ipython3",
   "version": "3.11.6"
  }
 },
 "nbformat": 4,
 "nbformat_minor": 2
}
